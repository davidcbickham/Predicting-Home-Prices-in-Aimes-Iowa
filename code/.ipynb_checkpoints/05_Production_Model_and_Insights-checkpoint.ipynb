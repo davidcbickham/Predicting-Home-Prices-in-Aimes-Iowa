{
 "cells": [
  {
   "cell_type": "markdown",
   "metadata": {},
   "source": [
    "# Import Libraries"
   ]
  },
  {
   "cell_type": "code",
   "execution_count": 1,
   "metadata": {},
   "outputs": [],
   "source": [
    "import pandas as pd\n",
    "import numpy as np\n",
    "import matplotlib.pyplot as plt\n",
    "import seaborn as sns\n",
    "\n",
    "from sklearn.linear_model import LinearRegression, Ridge, Lasso\n",
    "from sklearn.preprocessing import StandardScaler\n",
    "from sklearn.model_selection import train_test_split, GridSearchCV\n",
    "from sklearn.feature_selection import VarianceThreshold\n",
    "from sklearn.metrics import mean_squared_error, r2_score\n",
    "# import statsmodels.api as sm\n",
    "\n",
    "\n",
    "%matplotlib inline\n",
    "\n",
    "np.random.seed(42)"
   ]
  },
  {
   "cell_type": "markdown",
   "metadata": {},
   "source": [
    "## Load in training data"
   ]
  },
  {
   "cell_type": "code",
   "execution_count": 2,
   "metadata": {},
   "outputs": [],
   "source": [
    "train_clean = pd.read_csv('../data/train_clean.csv', index_col='id',na_values='', keep_default_na=False)"
   ]
  },
  {
   "cell_type": "code",
   "execution_count": 3,
   "metadata": {},
   "outputs": [
    {
     "data": {
      "text/html": [
       "<div>\n",
       "<style scoped>\n",
       "    .dataframe tbody tr th:only-of-type {\n",
       "        vertical-align: middle;\n",
       "    }\n",
       "\n",
       "    .dataframe tbody tr th {\n",
       "        vertical-align: top;\n",
       "    }\n",
       "\n",
       "    .dataframe thead th {\n",
       "        text-align: right;\n",
       "    }\n",
       "</style>\n",
       "<table border=\"1\" class=\"dataframe\">\n",
       "  <thead>\n",
       "    <tr style=\"text-align: right;\">\n",
       "      <th></th>\n",
       "      <th>ms_subclass</th>\n",
       "      <th>ms_zoning</th>\n",
       "      <th>lot_frontage</th>\n",
       "      <th>lot_area</th>\n",
       "      <th>street</th>\n",
       "      <th>alley</th>\n",
       "      <th>lot_shape</th>\n",
       "      <th>land_contour</th>\n",
       "      <th>utilities</th>\n",
       "      <th>lot_config</th>\n",
       "      <th>...</th>\n",
       "      <th>3ssn_porch</th>\n",
       "      <th>screen_porch</th>\n",
       "      <th>pool_area</th>\n",
       "      <th>pool_qc</th>\n",
       "      <th>fence</th>\n",
       "      <th>misc_feature</th>\n",
       "      <th>mo_sold</th>\n",
       "      <th>yr_sold</th>\n",
       "      <th>sale_type</th>\n",
       "      <th>saleprice</th>\n",
       "    </tr>\n",
       "    <tr>\n",
       "      <th>id</th>\n",
       "      <th></th>\n",
       "      <th></th>\n",
       "      <th></th>\n",
       "      <th></th>\n",
       "      <th></th>\n",
       "      <th></th>\n",
       "      <th></th>\n",
       "      <th></th>\n",
       "      <th></th>\n",
       "      <th></th>\n",
       "      <th></th>\n",
       "      <th></th>\n",
       "      <th></th>\n",
       "      <th></th>\n",
       "      <th></th>\n",
       "      <th></th>\n",
       "      <th></th>\n",
       "      <th></th>\n",
       "      <th></th>\n",
       "      <th></th>\n",
       "      <th></th>\n",
       "    </tr>\n",
       "  </thead>\n",
       "  <tbody>\n",
       "    <tr>\n",
       "      <th>109</th>\n",
       "      <td>60</td>\n",
       "      <td>RL</td>\n",
       "      <td>69.0552</td>\n",
       "      <td>13517</td>\n",
       "      <td>Pave</td>\n",
       "      <td>NA</td>\n",
       "      <td>IR1</td>\n",
       "      <td>Lvl</td>\n",
       "      <td>AllPub</td>\n",
       "      <td>CulDSac</td>\n",
       "      <td>...</td>\n",
       "      <td>0</td>\n",
       "      <td>0</td>\n",
       "      <td>0</td>\n",
       "      <td>NA</td>\n",
       "      <td>NA</td>\n",
       "      <td>NA</td>\n",
       "      <td>3</td>\n",
       "      <td>2010</td>\n",
       "      <td>WD</td>\n",
       "      <td>130500</td>\n",
       "    </tr>\n",
       "    <tr>\n",
       "      <th>544</th>\n",
       "      <td>60</td>\n",
       "      <td>RL</td>\n",
       "      <td>43.0000</td>\n",
       "      <td>11492</td>\n",
       "      <td>Pave</td>\n",
       "      <td>NA</td>\n",
       "      <td>IR1</td>\n",
       "      <td>Lvl</td>\n",
       "      <td>AllPub</td>\n",
       "      <td>CulDSac</td>\n",
       "      <td>...</td>\n",
       "      <td>0</td>\n",
       "      <td>0</td>\n",
       "      <td>0</td>\n",
       "      <td>NA</td>\n",
       "      <td>NA</td>\n",
       "      <td>NA</td>\n",
       "      <td>4</td>\n",
       "      <td>2009</td>\n",
       "      <td>WD</td>\n",
       "      <td>220000</td>\n",
       "    </tr>\n",
       "    <tr>\n",
       "      <th>153</th>\n",
       "      <td>20</td>\n",
       "      <td>RL</td>\n",
       "      <td>68.0000</td>\n",
       "      <td>7922</td>\n",
       "      <td>Pave</td>\n",
       "      <td>NA</td>\n",
       "      <td>Reg</td>\n",
       "      <td>Lvl</td>\n",
       "      <td>AllPub</td>\n",
       "      <td>Inside</td>\n",
       "      <td>...</td>\n",
       "      <td>0</td>\n",
       "      <td>0</td>\n",
       "      <td>0</td>\n",
       "      <td>NA</td>\n",
       "      <td>NA</td>\n",
       "      <td>NA</td>\n",
       "      <td>1</td>\n",
       "      <td>2010</td>\n",
       "      <td>WD</td>\n",
       "      <td>109000</td>\n",
       "    </tr>\n",
       "    <tr>\n",
       "      <th>318</th>\n",
       "      <td>60</td>\n",
       "      <td>RL</td>\n",
       "      <td>73.0000</td>\n",
       "      <td>9802</td>\n",
       "      <td>Pave</td>\n",
       "      <td>NA</td>\n",
       "      <td>Reg</td>\n",
       "      <td>Lvl</td>\n",
       "      <td>AllPub</td>\n",
       "      <td>Inside</td>\n",
       "      <td>...</td>\n",
       "      <td>0</td>\n",
       "      <td>0</td>\n",
       "      <td>0</td>\n",
       "      <td>NA</td>\n",
       "      <td>NA</td>\n",
       "      <td>NA</td>\n",
       "      <td>4</td>\n",
       "      <td>2010</td>\n",
       "      <td>WD</td>\n",
       "      <td>174000</td>\n",
       "    </tr>\n",
       "    <tr>\n",
       "      <th>255</th>\n",
       "      <td>50</td>\n",
       "      <td>RL</td>\n",
       "      <td>82.0000</td>\n",
       "      <td>14235</td>\n",
       "      <td>Pave</td>\n",
       "      <td>NA</td>\n",
       "      <td>IR1</td>\n",
       "      <td>Lvl</td>\n",
       "      <td>AllPub</td>\n",
       "      <td>Inside</td>\n",
       "      <td>...</td>\n",
       "      <td>0</td>\n",
       "      <td>0</td>\n",
       "      <td>0</td>\n",
       "      <td>NA</td>\n",
       "      <td>NA</td>\n",
       "      <td>NA</td>\n",
       "      <td>3</td>\n",
       "      <td>2010</td>\n",
       "      <td>WD</td>\n",
       "      <td>138500</td>\n",
       "    </tr>\n",
       "  </tbody>\n",
       "</table>\n",
       "<p>5 rows × 78 columns</p>\n",
       "</div>"
      ],
      "text/plain": [
       "     ms_subclass ms_zoning  lot_frontage  lot_area street alley lot_shape  \\\n",
       "id                                                                          \n",
       "109           60        RL       69.0552     13517   Pave    NA       IR1   \n",
       "544           60        RL       43.0000     11492   Pave    NA       IR1   \n",
       "153           20        RL       68.0000      7922   Pave    NA       Reg   \n",
       "318           60        RL       73.0000      9802   Pave    NA       Reg   \n",
       "255           50        RL       82.0000     14235   Pave    NA       IR1   \n",
       "\n",
       "    land_contour utilities lot_config  ... 3ssn_porch screen_porch pool_area  \\\n",
       "id                                     ...                                     \n",
       "109          Lvl    AllPub    CulDSac  ...          0            0         0   \n",
       "544          Lvl    AllPub    CulDSac  ...          0            0         0   \n",
       "153          Lvl    AllPub     Inside  ...          0            0         0   \n",
       "318          Lvl    AllPub     Inside  ...          0            0         0   \n",
       "255          Lvl    AllPub     Inside  ...          0            0         0   \n",
       "\n",
       "    pool_qc fence misc_feature  mo_sold  yr_sold  sale_type  saleprice  \n",
       "id                                                                      \n",
       "109      NA    NA           NA        3     2010        WD      130500  \n",
       "544      NA    NA           NA        4     2009        WD      220000  \n",
       "153      NA    NA           NA        1     2010        WD      109000  \n",
       "318      NA    NA           NA        4     2010        WD      174000  \n",
       "255      NA    NA           NA        3     2010        WD      138500  \n",
       "\n",
       "[5 rows x 78 columns]"
      ]
     },
     "execution_count": 3,
     "metadata": {},
     "output_type": "execute_result"
    }
   ],
   "source": [
    "train_clean.head()"
   ]
  },
  {
   "cell_type": "code",
   "execution_count": 4,
   "metadata": {},
   "outputs": [
    {
     "data": {
      "text/html": [
       "<div>\n",
       "<style scoped>\n",
       "    .dataframe tbody tr th:only-of-type {\n",
       "        vertical-align: middle;\n",
       "    }\n",
       "\n",
       "    .dataframe tbody tr th {\n",
       "        vertical-align: top;\n",
       "    }\n",
       "\n",
       "    .dataframe thead th {\n",
       "        text-align: right;\n",
       "    }\n",
       "</style>\n",
       "<table border=\"1\" class=\"dataframe\">\n",
       "  <thead>\n",
       "    <tr style=\"text-align: right;\">\n",
       "      <th></th>\n",
       "      <th>ms_subclass</th>\n",
       "      <th>ms_zoning</th>\n",
       "      <th>lot_frontage</th>\n",
       "      <th>lot_area</th>\n",
       "      <th>street</th>\n",
       "      <th>alley</th>\n",
       "      <th>lot_shape</th>\n",
       "      <th>land_contour</th>\n",
       "      <th>utilities</th>\n",
       "      <th>lot_config</th>\n",
       "      <th>...</th>\n",
       "      <th>3ssn_porch</th>\n",
       "      <th>screen_porch</th>\n",
       "      <th>pool_area</th>\n",
       "      <th>pool_qc</th>\n",
       "      <th>fence</th>\n",
       "      <th>misc_feature</th>\n",
       "      <th>mo_sold</th>\n",
       "      <th>yr_sold</th>\n",
       "      <th>sale_type</th>\n",
       "      <th>saleprice</th>\n",
       "    </tr>\n",
       "    <tr>\n",
       "      <th>id</th>\n",
       "      <th></th>\n",
       "      <th></th>\n",
       "      <th></th>\n",
       "      <th></th>\n",
       "      <th></th>\n",
       "      <th></th>\n",
       "      <th></th>\n",
       "      <th></th>\n",
       "      <th></th>\n",
       "      <th></th>\n",
       "      <th></th>\n",
       "      <th></th>\n",
       "      <th></th>\n",
       "      <th></th>\n",
       "      <th></th>\n",
       "      <th></th>\n",
       "      <th></th>\n",
       "      <th></th>\n",
       "      <th></th>\n",
       "      <th></th>\n",
       "      <th></th>\n",
       "    </tr>\n",
       "  </thead>\n",
       "  <tbody>\n",
       "    <tr>\n",
       "      <th>109</th>\n",
       "      <td>60</td>\n",
       "      <td>RL</td>\n",
       "      <td>69.0552</td>\n",
       "      <td>13517</td>\n",
       "      <td>Pave</td>\n",
       "      <td>NA</td>\n",
       "      <td>IR1</td>\n",
       "      <td>Lvl</td>\n",
       "      <td>AllPub</td>\n",
       "      <td>CulDSac</td>\n",
       "      <td>...</td>\n",
       "      <td>0</td>\n",
       "      <td>0</td>\n",
       "      <td>0</td>\n",
       "      <td>NA</td>\n",
       "      <td>NA</td>\n",
       "      <td>NA</td>\n",
       "      <td>3</td>\n",
       "      <td>2010</td>\n",
       "      <td>WD</td>\n",
       "      <td>130500</td>\n",
       "    </tr>\n",
       "    <tr>\n",
       "      <th>544</th>\n",
       "      <td>60</td>\n",
       "      <td>RL</td>\n",
       "      <td>43.0000</td>\n",
       "      <td>11492</td>\n",
       "      <td>Pave</td>\n",
       "      <td>NA</td>\n",
       "      <td>IR1</td>\n",
       "      <td>Lvl</td>\n",
       "      <td>AllPub</td>\n",
       "      <td>CulDSac</td>\n",
       "      <td>...</td>\n",
       "      <td>0</td>\n",
       "      <td>0</td>\n",
       "      <td>0</td>\n",
       "      <td>NA</td>\n",
       "      <td>NA</td>\n",
       "      <td>NA</td>\n",
       "      <td>4</td>\n",
       "      <td>2009</td>\n",
       "      <td>WD</td>\n",
       "      <td>220000</td>\n",
       "    </tr>\n",
       "    <tr>\n",
       "      <th>153</th>\n",
       "      <td>20</td>\n",
       "      <td>RL</td>\n",
       "      <td>68.0000</td>\n",
       "      <td>7922</td>\n",
       "      <td>Pave</td>\n",
       "      <td>NA</td>\n",
       "      <td>Reg</td>\n",
       "      <td>Lvl</td>\n",
       "      <td>AllPub</td>\n",
       "      <td>Inside</td>\n",
       "      <td>...</td>\n",
       "      <td>0</td>\n",
       "      <td>0</td>\n",
       "      <td>0</td>\n",
       "      <td>NA</td>\n",
       "      <td>NA</td>\n",
       "      <td>NA</td>\n",
       "      <td>1</td>\n",
       "      <td>2010</td>\n",
       "      <td>WD</td>\n",
       "      <td>109000</td>\n",
       "    </tr>\n",
       "    <tr>\n",
       "      <th>318</th>\n",
       "      <td>60</td>\n",
       "      <td>RL</td>\n",
       "      <td>73.0000</td>\n",
       "      <td>9802</td>\n",
       "      <td>Pave</td>\n",
       "      <td>NA</td>\n",
       "      <td>Reg</td>\n",
       "      <td>Lvl</td>\n",
       "      <td>AllPub</td>\n",
       "      <td>Inside</td>\n",
       "      <td>...</td>\n",
       "      <td>0</td>\n",
       "      <td>0</td>\n",
       "      <td>0</td>\n",
       "      <td>NA</td>\n",
       "      <td>NA</td>\n",
       "      <td>NA</td>\n",
       "      <td>4</td>\n",
       "      <td>2010</td>\n",
       "      <td>WD</td>\n",
       "      <td>174000</td>\n",
       "    </tr>\n",
       "    <tr>\n",
       "      <th>255</th>\n",
       "      <td>50</td>\n",
       "      <td>RL</td>\n",
       "      <td>82.0000</td>\n",
       "      <td>14235</td>\n",
       "      <td>Pave</td>\n",
       "      <td>NA</td>\n",
       "      <td>IR1</td>\n",
       "      <td>Lvl</td>\n",
       "      <td>AllPub</td>\n",
       "      <td>Inside</td>\n",
       "      <td>...</td>\n",
       "      <td>0</td>\n",
       "      <td>0</td>\n",
       "      <td>0</td>\n",
       "      <td>NA</td>\n",
       "      <td>NA</td>\n",
       "      <td>NA</td>\n",
       "      <td>3</td>\n",
       "      <td>2010</td>\n",
       "      <td>WD</td>\n",
       "      <td>138500</td>\n",
       "    </tr>\n",
       "  </tbody>\n",
       "</table>\n",
       "<p>5 rows × 78 columns</p>\n",
       "</div>"
      ],
      "text/plain": [
       "     ms_subclass ms_zoning  lot_frontage  lot_area street alley lot_shape  \\\n",
       "id                                                                          \n",
       "109           60        RL       69.0552     13517   Pave    NA       IR1   \n",
       "544           60        RL       43.0000     11492   Pave    NA       IR1   \n",
       "153           20        RL       68.0000      7922   Pave    NA       Reg   \n",
       "318           60        RL       73.0000      9802   Pave    NA       Reg   \n",
       "255           50        RL       82.0000     14235   Pave    NA       IR1   \n",
       "\n",
       "    land_contour utilities lot_config  ... 3ssn_porch screen_porch pool_area  \\\n",
       "id                                     ...                                     \n",
       "109          Lvl    AllPub    CulDSac  ...          0            0         0   \n",
       "544          Lvl    AllPub    CulDSac  ...          0            0         0   \n",
       "153          Lvl    AllPub     Inside  ...          0            0         0   \n",
       "318          Lvl    AllPub     Inside  ...          0            0         0   \n",
       "255          Lvl    AllPub     Inside  ...          0            0         0   \n",
       "\n",
       "    pool_qc fence misc_feature  mo_sold  yr_sold  sale_type  saleprice  \n",
       "id                                                                      \n",
       "109      NA    NA           NA        3     2010        WD      130500  \n",
       "544      NA    NA           NA        4     2009        WD      220000  \n",
       "153      NA    NA           NA        1     2010        WD      109000  \n",
       "318      NA    NA           NA        4     2010        WD      174000  \n",
       "255      NA    NA           NA        3     2010        WD      138500  \n",
       "\n",
       "[5 rows x 78 columns]"
      ]
     },
     "execution_count": 4,
     "metadata": {},
     "output_type": "execute_result"
    }
   ],
   "source": [
    "train_clean.head()"
   ]
  },
  {
   "cell_type": "markdown",
   "metadata": {},
   "source": [
    "Spot check object columns"
   ]
  },
  {
   "cell_type": "code",
   "execution_count": 5,
   "metadata": {},
   "outputs": [
    {
     "data": {
      "text/plain": [
       "Index(['ms_zoning', 'street', 'alley', 'lot_shape', 'land_contour',\n",
       "       'utilities', 'lot_config', 'land_slope', 'neighborhood', 'condition_1',\n",
       "       'condition_2', 'bldg_type', 'house_style', 'roof_style', 'roof_matl',\n",
       "       'exterior_1st', 'exterior_2nd', 'mas_vnr_type', 'exter_qual',\n",
       "       'exter_cond', 'foundation', 'bsmt_qual', 'bsmt_cond', 'bsmt_exposure',\n",
       "       'bsmtfin_type_1', 'bsmtfin_type_2', 'heating', 'heating_qc',\n",
       "       'central_air', 'electrical', 'kitchen_qual', 'functional',\n",
       "       'fireplace_qu', 'garage_type', 'garage_finish', 'garage_qual',\n",
       "       'garage_cond', 'paved_drive', 'pool_qc', 'fence', 'misc_feature',\n",
       "       'sale_type'],\n",
       "      dtype='object')"
      ]
     },
     "execution_count": 5,
     "metadata": {},
     "output_type": "execute_result"
    }
   ],
   "source": [
    "train_clean.select_dtypes('object').columns"
   ]
  },
  {
   "cell_type": "markdown",
   "metadata": {},
   "source": [
    "We notice that ms_subclass is nt being defined as an object, we change the data type to object before building our model."
   ]
  },
  {
   "cell_type": "code",
   "execution_count": 6,
   "metadata": {},
   "outputs": [],
   "source": [
    "train_clean['ms_subclass'] = train_clean['ms_subclass'].astype('object')"
   ]
  },
  {
   "cell_type": "markdown",
   "metadata": {},
   "source": [
    "## Confirming No Null Values"
   ]
  },
  {
   "cell_type": "code",
   "execution_count": 7,
   "metadata": {},
   "outputs": [
    {
     "data": {
      "text/plain": [
       "0"
      ]
     },
     "execution_count": 7,
     "metadata": {},
     "output_type": "execute_result"
    }
   ],
   "source": [
    "train_clean.isnull().sum().sum()"
   ]
  },
  {
   "cell_type": "markdown",
   "metadata": {},
   "source": [
    "## Create Dummy Variables"
   ]
  },
  {
   "cell_type": "markdown",
   "metadata": {},
   "source": [
    "We'll create dummy variables for all the categorical variables in the data set\n",
    "\n",
    "This is also referred to as one hot encoding. It means that a categorical feature with k levels will result in k new features, each taking on the value of 0 or 1 to denote the presensce of that attribute."
   ]
  },
  {
   "cell_type": "code",
   "execution_count": 8,
   "metadata": {},
   "outputs": [],
   "source": [
    "train_clean_dummies = pd.get_dummies(train_clean)"
   ]
  },
  {
   "cell_type": "code",
   "execution_count": 9,
   "metadata": {},
   "outputs": [
    {
     "data": {
      "text/plain": [
       "(2051, 314)"
      ]
     },
     "execution_count": 9,
     "metadata": {},
     "output_type": "execute_result"
    }
   ],
   "source": [
    "train_clean_dummies.shape"
   ]
  },
  {
   "cell_type": "code",
   "execution_count": 10,
   "metadata": {},
   "outputs": [
    {
     "data": {
      "text/html": [
       "<div>\n",
       "<style scoped>\n",
       "    .dataframe tbody tr th:only-of-type {\n",
       "        vertical-align: middle;\n",
       "    }\n",
       "\n",
       "    .dataframe tbody tr th {\n",
       "        vertical-align: top;\n",
       "    }\n",
       "\n",
       "    .dataframe thead th {\n",
       "        text-align: right;\n",
       "    }\n",
       "</style>\n",
       "<table border=\"1\" class=\"dataframe\">\n",
       "  <thead>\n",
       "    <tr style=\"text-align: right;\">\n",
       "      <th></th>\n",
       "      <th>lot_frontage</th>\n",
       "      <th>lot_area</th>\n",
       "      <th>overall_qual</th>\n",
       "      <th>overall_cond</th>\n",
       "      <th>year_built</th>\n",
       "      <th>year_remod/add</th>\n",
       "      <th>mas_vnr_area</th>\n",
       "      <th>bsmtfin_sf_1</th>\n",
       "      <th>bsmtfin_sf_2</th>\n",
       "      <th>bsmt_unf_sf</th>\n",
       "      <th>...</th>\n",
       "      <th>misc_feature_Shed</th>\n",
       "      <th>sale_type_COD</th>\n",
       "      <th>sale_type_CWD</th>\n",
       "      <th>sale_type_Con</th>\n",
       "      <th>sale_type_ConLD</th>\n",
       "      <th>sale_type_ConLI</th>\n",
       "      <th>sale_type_ConLw</th>\n",
       "      <th>sale_type_New</th>\n",
       "      <th>sale_type_Oth</th>\n",
       "      <th>sale_type_WD</th>\n",
       "    </tr>\n",
       "    <tr>\n",
       "      <th>id</th>\n",
       "      <th></th>\n",
       "      <th></th>\n",
       "      <th></th>\n",
       "      <th></th>\n",
       "      <th></th>\n",
       "      <th></th>\n",
       "      <th></th>\n",
       "      <th></th>\n",
       "      <th></th>\n",
       "      <th></th>\n",
       "      <th></th>\n",
       "      <th></th>\n",
       "      <th></th>\n",
       "      <th></th>\n",
       "      <th></th>\n",
       "      <th></th>\n",
       "      <th></th>\n",
       "      <th></th>\n",
       "      <th></th>\n",
       "      <th></th>\n",
       "      <th></th>\n",
       "    </tr>\n",
       "  </thead>\n",
       "  <tbody>\n",
       "    <tr>\n",
       "      <th>109</th>\n",
       "      <td>69.0552</td>\n",
       "      <td>13517</td>\n",
       "      <td>6</td>\n",
       "      <td>8</td>\n",
       "      <td>1976</td>\n",
       "      <td>2005</td>\n",
       "      <td>289.0</td>\n",
       "      <td>533.0</td>\n",
       "      <td>0.0</td>\n",
       "      <td>192.0</td>\n",
       "      <td>...</td>\n",
       "      <td>0</td>\n",
       "      <td>0</td>\n",
       "      <td>0</td>\n",
       "      <td>0</td>\n",
       "      <td>0</td>\n",
       "      <td>0</td>\n",
       "      <td>0</td>\n",
       "      <td>0</td>\n",
       "      <td>0</td>\n",
       "      <td>1</td>\n",
       "    </tr>\n",
       "    <tr>\n",
       "      <th>544</th>\n",
       "      <td>43.0000</td>\n",
       "      <td>11492</td>\n",
       "      <td>7</td>\n",
       "      <td>5</td>\n",
       "      <td>1996</td>\n",
       "      <td>1997</td>\n",
       "      <td>132.0</td>\n",
       "      <td>637.0</td>\n",
       "      <td>0.0</td>\n",
       "      <td>276.0</td>\n",
       "      <td>...</td>\n",
       "      <td>0</td>\n",
       "      <td>0</td>\n",
       "      <td>0</td>\n",
       "      <td>0</td>\n",
       "      <td>0</td>\n",
       "      <td>0</td>\n",
       "      <td>0</td>\n",
       "      <td>0</td>\n",
       "      <td>0</td>\n",
       "      <td>1</td>\n",
       "    </tr>\n",
       "    <tr>\n",
       "      <th>153</th>\n",
       "      <td>68.0000</td>\n",
       "      <td>7922</td>\n",
       "      <td>5</td>\n",
       "      <td>7</td>\n",
       "      <td>1953</td>\n",
       "      <td>2007</td>\n",
       "      <td>0.0</td>\n",
       "      <td>731.0</td>\n",
       "      <td>0.0</td>\n",
       "      <td>326.0</td>\n",
       "      <td>...</td>\n",
       "      <td>0</td>\n",
       "      <td>0</td>\n",
       "      <td>0</td>\n",
       "      <td>0</td>\n",
       "      <td>0</td>\n",
       "      <td>0</td>\n",
       "      <td>0</td>\n",
       "      <td>0</td>\n",
       "      <td>0</td>\n",
       "      <td>1</td>\n",
       "    </tr>\n",
       "    <tr>\n",
       "      <th>318</th>\n",
       "      <td>73.0000</td>\n",
       "      <td>9802</td>\n",
       "      <td>5</td>\n",
       "      <td>5</td>\n",
       "      <td>2006</td>\n",
       "      <td>2007</td>\n",
       "      <td>0.0</td>\n",
       "      <td>0.0</td>\n",
       "      <td>0.0</td>\n",
       "      <td>384.0</td>\n",
       "      <td>...</td>\n",
       "      <td>0</td>\n",
       "      <td>0</td>\n",
       "      <td>0</td>\n",
       "      <td>0</td>\n",
       "      <td>0</td>\n",
       "      <td>0</td>\n",
       "      <td>0</td>\n",
       "      <td>0</td>\n",
       "      <td>0</td>\n",
       "      <td>1</td>\n",
       "    </tr>\n",
       "    <tr>\n",
       "      <th>255</th>\n",
       "      <td>82.0000</td>\n",
       "      <td>14235</td>\n",
       "      <td>6</td>\n",
       "      <td>8</td>\n",
       "      <td>1900</td>\n",
       "      <td>1993</td>\n",
       "      <td>0.0</td>\n",
       "      <td>0.0</td>\n",
       "      <td>0.0</td>\n",
       "      <td>676.0</td>\n",
       "      <td>...</td>\n",
       "      <td>0</td>\n",
       "      <td>0</td>\n",
       "      <td>0</td>\n",
       "      <td>0</td>\n",
       "      <td>0</td>\n",
       "      <td>0</td>\n",
       "      <td>0</td>\n",
       "      <td>0</td>\n",
       "      <td>0</td>\n",
       "      <td>1</td>\n",
       "    </tr>\n",
       "  </tbody>\n",
       "</table>\n",
       "<p>5 rows × 314 columns</p>\n",
       "</div>"
      ],
      "text/plain": [
       "     lot_frontage  lot_area  overall_qual  overall_cond  year_built  \\\n",
       "id                                                                    \n",
       "109       69.0552     13517             6             8        1976   \n",
       "544       43.0000     11492             7             5        1996   \n",
       "153       68.0000      7922             5             7        1953   \n",
       "318       73.0000      9802             5             5        2006   \n",
       "255       82.0000     14235             6             8        1900   \n",
       "\n",
       "     year_remod/add  mas_vnr_area  bsmtfin_sf_1  bsmtfin_sf_2  bsmt_unf_sf  \\\n",
       "id                                                                           \n",
       "109            2005         289.0         533.0           0.0        192.0   \n",
       "544            1997         132.0         637.0           0.0        276.0   \n",
       "153            2007           0.0         731.0           0.0        326.0   \n",
       "318            2007           0.0           0.0           0.0        384.0   \n",
       "255            1993           0.0           0.0           0.0        676.0   \n",
       "\n",
       "     ...  misc_feature_Shed  sale_type_COD  sale_type_CWD  sale_type_Con  \\\n",
       "id   ...                                                                   \n",
       "109  ...                  0              0              0              0   \n",
       "544  ...                  0              0              0              0   \n",
       "153  ...                  0              0              0              0   \n",
       "318  ...                  0              0              0              0   \n",
       "255  ...                  0              0              0              0   \n",
       "\n",
       "     sale_type_ConLD  sale_type_ConLI  sale_type_ConLw  sale_type_New  \\\n",
       "id                                                                      \n",
       "109                0                0                0              0   \n",
       "544                0                0                0              0   \n",
       "153                0                0                0              0   \n",
       "318                0                0                0              0   \n",
       "255                0                0                0              0   \n",
       "\n",
       "     sale_type_Oth  sale_type_WD   \n",
       "id                                 \n",
       "109              0              1  \n",
       "544              0              1  \n",
       "153              0              1  \n",
       "318              0              1  \n",
       "255              0              1  \n",
       "\n",
       "[5 rows x 314 columns]"
      ]
     },
     "execution_count": 10,
     "metadata": {},
     "output_type": "execute_result"
    }
   ],
   "source": [
    "train_clean_dummies.head()"
   ]
  },
  {
   "cell_type": "markdown",
   "metadata": {},
   "source": [
    "## Set up `X` and `y`"
   ]
  },
  {
   "cell_type": "markdown",
   "metadata": {},
   "source": [
    "Next we'll create a dataframe with all our predictor variables and a series of the dependent variable (sale price)"
   ]
  },
  {
   "cell_type": "code",
   "execution_count": 11,
   "metadata": {},
   "outputs": [],
   "source": [
    "X = train_clean_dummies.drop('saleprice', 1)\n",
    "y = train_clean_dummies.saleprice"
   ]
  },
  {
   "cell_type": "markdown",
   "metadata": {},
   "source": [
    "## Create training and validation sets"
   ]
  },
  {
   "cell_type": "markdown",
   "metadata": {},
   "source": [
    "Next we'll use `train_test_split` to create a train and test set for our data. We'll train our model on the training data and test our fitted model on the test date to measure our accuracy. By default, we'll fit our model on 75% of the observations (training data) and use the remaining 25% to generate our predictions."
   ]
  },
  {
   "cell_type": "code",
   "execution_count": 12,
   "metadata": {},
   "outputs": [],
   "source": [
    "X_train, X_test, y_train, y_test = train_test_split(X, y,random_state=42)"
   ]
  },
  {
   "cell_type": "markdown",
   "metadata": {},
   "source": [
    "## Scale the data"
   ]
  },
  {
   "cell_type": "markdown",
   "metadata": {},
   "source": [
    "Scaling the data means that we will transform the data so that each feature will have a mean of 0 and a standard deviation of 1."
   ]
  },
  {
   "cell_type": "code",
   "execution_count": 13,
   "metadata": {},
   "outputs": [
    {
     "name": "stderr",
     "output_type": "stream",
     "text": [
      "/Users/davidbickham/anaconda3/lib/python3.7/site-packages/sklearn/preprocessing/data.py:625: DataConversionWarning: Data with input dtype uint8, int64, float64 were all converted to float64 by StandardScaler.\n",
      "  return self.partial_fit(X, y)\n",
      "/Users/davidbickham/anaconda3/lib/python3.7/site-packages/ipykernel_launcher.py:4: DataConversionWarning: Data with input dtype uint8, int64, float64 were all converted to float64 by StandardScaler.\n",
      "  after removing the cwd from sys.path.\n",
      "/Users/davidbickham/anaconda3/lib/python3.7/site-packages/ipykernel_launcher.py:5: DataConversionWarning: Data with input dtype uint8, int64, float64 were all converted to float64 by StandardScaler.\n",
      "  \"\"\"\n"
     ]
    }
   ],
   "source": [
    "# instantiate StandardCaler\n",
    "ss = StandardScaler()\n",
    "ss.fit(X_train)\n",
    "X_train_ss = ss.transform(X_train)\n",
    "X_test_ss = ss.transform(X_test)"
   ]
  },
  {
   "cell_type": "markdown",
   "metadata": {},
   "source": [
    "### GridSearch for Optimal Alpha"
   ]
  },
  {
   "cell_type": "markdown",
   "metadata": {},
   "source": [
    "GridSearch builds a model for every combination of a specified hyperparameters, in this case alpha, and evaluates each model to obtain the best alpha. In addition to GridSearch, we are also using cross-validation of 5 folds. This means that are data will be split into 5 subsets and for each subset we will fit the model using 11 different alpha values."
   ]
  },
  {
   "cell_type": "markdown",
   "metadata": {},
   "source": [
    "We initially start our gridsearch by picking 7 values between initially 0 and 1000. The model selected an alpha of 1000, which indicated that the ideal alpha would be around that value. \n",
    "\n",
    "We then test ranges of alphas around that value (i.e. 600 - 1400). We repeated this process until we narrowed in on an alpha values of about 760"
   ]
  },
  {
   "cell_type": "code",
   "execution_count": 14,
   "metadata": {},
   "outputs": [],
   "source": [
    "alpha = {'alpha': \n",
    "         # np.logspace(-3,3,7) \n",
    "         np.linspace(700,800,11)\n",
    "        }\n",
    "lasso_model = Lasso()\n",
    "\n",
    "grid = GridSearchCV(lasso_model,\n",
    "                    alpha,\n",
    "                    cv = 5,\n",
    "                    return_train_score=True\n",
    "                   )"
   ]
  },
  {
   "cell_type": "markdown",
   "metadata": {},
   "source": [
    "### Fit Lasso Regression"
   ]
  },
  {
   "cell_type": "code",
   "execution_count": 15,
   "metadata": {},
   "outputs": [
    {
     "data": {
      "text/plain": [
       "GridSearchCV(cv=5, error_score='raise-deprecating',\n",
       "       estimator=Lasso(alpha=1.0, copy_X=True, fit_intercept=True, max_iter=1000,\n",
       "   normalize=False, positive=False, precompute=False, random_state=None,\n",
       "   selection='cyclic', tol=0.0001, warm_start=False),\n",
       "       fit_params=None, iid='warn', n_jobs=None,\n",
       "       param_grid={'alpha': array([700., 710., 720., 730., 740., 750., 760., 770., 780., 790., 800.])},\n",
       "       pre_dispatch='2*n_jobs', refit=True, return_train_score=True,\n",
       "       scoring=None, verbose=0)"
      ]
     },
     "execution_count": 15,
     "metadata": {},
     "output_type": "execute_result"
    }
   ],
   "source": [
    "grid.fit(X_train_ss, y_train)"
   ]
  },
  {
   "cell_type": "code",
   "execution_count": 16,
   "metadata": {},
   "outputs": [
    {
     "data": {
      "text/plain": [
       "{'alpha': 720.0}"
      ]
     },
     "execution_count": 16,
     "metadata": {},
     "output_type": "execute_result"
    }
   ],
   "source": [
    "grid.best_params_"
   ]
  },
  {
   "cell_type": "markdown",
   "metadata": {},
   "source": [
    "The above outputs the alpha that resulted in the lowest R2 score, which was 720."
   ]
  },
  {
   "cell_type": "markdown",
   "metadata": {},
   "source": [
    "When we output the results we can see different alpha values that we're testing, and other details like the test/train R2 score for every simulation"
   ]
  },
  {
   "cell_type": "code",
   "execution_count": 17,
   "metadata": {},
   "outputs": [
    {
     "data": {
      "text/plain": [
       "{'mean_fit_time': array([0.06744561, 0.03401132, 0.03334818, 0.03316159, 0.03056469,\n",
       "        0.02928205, 0.03039141, 0.03110633, 0.03115163, 0.02929955,\n",
       "        0.02834287]),\n",
       " 'std_fit_time': array([0.06756756, 0.00295335, 0.0022187 , 0.00497072, 0.001259  ,\n",
       "        0.00187426, 0.00296788, 0.00167306, 0.00241767, 0.00268765,\n",
       "        0.00297633]),\n",
       " 'mean_score_time': array([0.00103431, 0.00092068, 0.00096607, 0.000911  , 0.00082235,\n",
       "        0.00075679, 0.0009129 , 0.0008378 , 0.0009479 , 0.00084581,\n",
       "        0.00077548]),\n",
       " 'std_score_time': array([6.40613286e-05, 1.61035229e-04, 1.15578481e-04, 1.52425978e-04,\n",
       "        8.34690336e-05, 6.95351209e-05, 2.65506638e-04, 1.41262394e-04,\n",
       "        1.18257961e-04, 8.35647563e-05, 8.91839233e-05]),\n",
       " 'param_alpha': masked_array(data=[700.0, 710.0, 720.0, 730.0, 740.0, 750.0, 760.0, 770.0,\n",
       "                    780.0, 790.0, 800.0],\n",
       "              mask=[False, False, False, False, False, False, False, False,\n",
       "                    False, False, False],\n",
       "        fill_value='?',\n",
       "             dtype=object),\n",
       " 'params': [{'alpha': 700.0},\n",
       "  {'alpha': 710.0},\n",
       "  {'alpha': 720.0},\n",
       "  {'alpha': 730.0},\n",
       "  {'alpha': 740.0},\n",
       "  {'alpha': 750.0},\n",
       "  {'alpha': 760.0},\n",
       "  {'alpha': 770.0},\n",
       "  {'alpha': 780.0},\n",
       "  {'alpha': 790.0},\n",
       "  {'alpha': 800.0}],\n",
       " 'split0_test_score': array([0.9036881 , 0.90370383, 0.90371517, 0.903718  , 0.90371722,\n",
       "        0.90371357, 0.90370734, 0.90369792, 0.90368434, 0.903668  ,\n",
       "        0.90365579]),\n",
       " 'split1_test_score': array([0.86902675, 0.86915605, 0.86928929, 0.86941201, 0.86953916,\n",
       "        0.86968543, 0.86983448, 0.86997871, 0.87011746, 0.87022726,\n",
       "        0.87034221]),\n",
       " 'split2_test_score': array([0.86670127, 0.86676968, 0.86684236, 0.86691161, 0.86697738,\n",
       "        0.86705091, 0.86714   , 0.86722353, 0.86729852, 0.86737006,\n",
       "        0.86744006]),\n",
       " 'split3_test_score': array([0.84237363, 0.84231148, 0.84224801, 0.84215604, 0.84206068,\n",
       "        0.84195982, 0.84186578, 0.84177487, 0.8416848 , 0.8415997 ,\n",
       "        0.84151993]),\n",
       " 'split4_test_score': array([0.75182822, 0.75168348, 0.75153696, 0.75136057, 0.75119665,\n",
       "        0.75103122, 0.75086706, 0.75069654, 0.75052265, 0.75034285,\n",
       "        0.75017116]),\n",
       " 'mean_test_score': array([0.84678812, 0.84678957, 0.84679116, 0.8467766 , 0.84676333,\n",
       "        0.84675346, 0.84674836, 0.8467399 , 0.8467273 , 0.84670746,\n",
       "        0.84669186]),\n",
       " 'std_test_score': array([0.05128998, 0.05136462, 0.05143971, 0.05152336, 0.05160187,\n",
       "        0.05168281, 0.05176418, 0.05184639, 0.05192787, 0.05200805,\n",
       "        0.05208645]),\n",
       " 'rank_test_score': array([ 3,  2,  1,  4,  5,  6,  7,  8,  9, 10, 11], dtype=int32),\n",
       " 'split0_train_score': array([0.90211631, 0.90191345, 0.9017084 , 0.90150825, 0.90130752,\n",
       "        0.90110454, 0.90089969, 0.90069971, 0.90050186, 0.90030076,\n",
       "        0.90010199]),\n",
       " 'split1_train_score': array([0.90912183, 0.90893245, 0.90874337, 0.90855415, 0.90836803,\n",
       "        0.90819345, 0.90802628, 0.90785934, 0.90769185, 0.90753172,\n",
       "        0.90737381]),\n",
       " 'split2_train_score': array([0.9034971 , 0.90331187, 0.90312584, 0.90293822, 0.90275034,\n",
       "        0.90256739, 0.90239422, 0.90221909, 0.90204406, 0.90186716,\n",
       "        0.9016907 ]),\n",
       " 'split3_train_score': array([0.91457727, 0.91440195, 0.91422453, 0.91405098, 0.91387587,\n",
       "        0.91369784, 0.91353073, 0.91336593, 0.91320263, 0.91304369,\n",
       "        0.91288756]),\n",
       " 'split4_train_score': array([0.91359587, 0.91343678, 0.91327854, 0.91312706, 0.91297749,\n",
       "        0.91282756, 0.91267773, 0.91252796, 0.91237623, 0.91222351,\n",
       "        0.9120707 ]),\n",
       " 'mean_train_score': array([0.90858168, 0.9083993 , 0.90821614, 0.90803574, 0.90785585,\n",
       "        0.90767816, 0.90750573, 0.90733441, 0.90716333, 0.90699336,\n",
       "        0.90682495]),\n",
       " 'std_train_score': array([0.00508006, 0.00509196, 0.00510428, 0.00511793, 0.00513188,\n",
       "        0.00514492, 0.00515923, 0.00517327, 0.00518669, 0.0052023 ,\n",
       "        0.00521791])}"
      ]
     },
     "execution_count": 17,
     "metadata": {},
     "output_type": "execute_result"
    }
   ],
   "source": [
    "grid.cv_results_"
   ]
  },
  {
   "cell_type": "markdown",
   "metadata": {},
   "source": [
    "We'll use the below lines of code to visually inspect our mean R2 test score for the different alpha level that we're tested.\n",
    "\n",
    "This visual analysis is actually how we were able to identify the proper R2 score after fitting our model."
   ]
  },
  {
   "cell_type": "code",
   "execution_count": 18,
   "metadata": {},
   "outputs": [],
   "source": [
    "tested_alphas = [x['alpha'] for x in grid.cv_results_['params']]"
   ]
  },
  {
   "cell_type": "code",
   "execution_count": 19,
   "metadata": {},
   "outputs": [
    {
     "data": {
      "text/plain": [
       "array([0.84678812, 0.84678957, 0.84679116, 0.8467766 , 0.84676333,\n",
       "       0.84675346, 0.84674836, 0.8467399 , 0.8467273 , 0.84670746,\n",
       "       0.84669186])"
      ]
     },
     "execution_count": 19,
     "metadata": {},
     "output_type": "execute_result"
    }
   ],
   "source": [
    "grid.cv_results_['mean_test_score']"
   ]
  },
  {
   "cell_type": "code",
   "execution_count": 20,
   "metadata": {},
   "outputs": [
    {
     "data": {
      "image/png": "[encoded data removed]",
      "text/plain": [
       "<Figure size 432x288 with 1 Axes>"
      ]
     },
     "metadata": {
      "needs_background": "light"
     },
     "output_type": "display_data"
    }
   ],
   "source": [
    "plt.plot(tested_alphas, grid.cv_results_['mean_test_score']);"
   ]
  },
  {
   "cell_type": "markdown",
   "metadata": {},
   "source": [
    "### Model Evaluation"
   ]
  },
  {
   "cell_type": "markdown",
   "metadata": {},
   "source": [
    "Below we can calculate our train and test scores"
   ]
  },
  {
   "cell_type": "code",
   "execution_count": 21,
   "metadata": {},
   "outputs": [
    {
     "data": {
      "text/plain": [
       "0.9028952863609008"
      ]
     },
     "execution_count": 21,
     "metadata": {},
     "output_type": "execute_result"
    }
   ],
   "source": [
    "grid.score(X_train_ss, y_train)"
   ]
  },
  {
   "cell_type": "code",
   "execution_count": 22,
   "metadata": {},
   "outputs": [
    {
     "data": {
      "text/plain": [
       "0.903754211817606"
      ]
     },
     "execution_count": 22,
     "metadata": {},
     "output_type": "execute_result"
    }
   ],
   "source": [
    "grid.score(X_test_ss, y_test)"
   ]
  },
  {
   "cell_type": "markdown",
   "metadata": {},
   "source": [
    "We see our R2 score is consistent at 90.3% for our training and test data"
   ]
  },
  {
   "cell_type": "markdown",
   "metadata": {},
   "source": [
    "We'll go through the process visualizing our feature weights as before:"
   ]
  },
  {
   "cell_type": "code",
   "execution_count": 23,
   "metadata": {},
   "outputs": [],
   "source": [
    "columns = X.columns"
   ]
  },
  {
   "cell_type": "code",
   "execution_count": 24,
   "metadata": {},
   "outputs": [],
   "source": [
    "betas = pd.DataFrame(grid.best_estimator_.coef_, index=columns)"
   ]
  },
  {
   "cell_type": "code",
   "execution_count": 25,
   "metadata": {},
   "outputs": [
    {
     "data": {
      "text/html": [
       "<div>\n",
       "<style scoped>\n",
       "    .dataframe tbody tr th:only-of-type {\n",
       "        vertical-align: middle;\n",
       "    }\n",
       "\n",
       "    .dataframe tbody tr th {\n",
       "        vertical-align: top;\n",
       "    }\n",
       "\n",
       "    .dataframe thead th {\n",
       "        text-align: right;\n",
       "    }\n",
       "</style>\n",
       "<table border=\"1\" class=\"dataframe\">\n",
       "  <thead>\n",
       "    <tr style=\"text-align: right;\">\n",
       "      <th></th>\n",
       "      <th>0</th>\n",
       "    </tr>\n",
       "  </thead>\n",
       "  <tbody>\n",
       "    <tr>\n",
       "      <th>lot_frontage</th>\n",
       "      <td>-0.000000</td>\n",
       "    </tr>\n",
       "    <tr>\n",
       "      <th>lot_area</th>\n",
       "      <td>1715.971105</td>\n",
       "    </tr>\n",
       "    <tr>\n",
       "      <th>overall_qual</th>\n",
       "      <td>12486.642130</td>\n",
       "    </tr>\n",
       "    <tr>\n",
       "      <th>overall_cond</th>\n",
       "      <td>3690.270684</td>\n",
       "    </tr>\n",
       "    <tr>\n",
       "      <th>year_built</th>\n",
       "      <td>5458.882084</td>\n",
       "    </tr>\n",
       "  </tbody>\n",
       "</table>\n",
       "</div>"
      ],
      "text/plain": [
       "                         0\n",
       "lot_frontage     -0.000000\n",
       "lot_area       1715.971105\n",
       "overall_qual  12486.642130\n",
       "overall_cond   3690.270684\n",
       "year_built     5458.882084"
      ]
     },
     "execution_count": 25,
     "metadata": {},
     "output_type": "execute_result"
    }
   ],
   "source": [
    "betas.head()"
   ]
  },
  {
   "cell_type": "code",
   "execution_count": 26,
   "metadata": {},
   "outputs": [],
   "source": [
    "betas.columns = ['weights']\n",
    "betas['abs_w'] = betas['weights'].abs()"
   ]
  },
  {
   "cell_type": "code",
   "execution_count": 27,
   "metadata": {},
   "outputs": [
    {
     "data": {
      "text/html": [
       "<div>\n",
       "<style scoped>\n",
       "    .dataframe tbody tr th:only-of-type {\n",
       "        vertical-align: middle;\n",
       "    }\n",
       "\n",
       "    .dataframe tbody tr th {\n",
       "        vertical-align: top;\n",
       "    }\n",
       "\n",
       "    .dataframe thead th {\n",
       "        text-align: right;\n",
       "    }\n",
       "</style>\n",
       "<table border=\"1\" class=\"dataframe\">\n",
       "  <thead>\n",
       "    <tr style=\"text-align: right;\">\n",
       "      <th></th>\n",
       "      <th>weights</th>\n",
       "      <th>abs_w</th>\n",
       "    </tr>\n",
       "  </thead>\n",
       "  <tbody>\n",
       "    <tr>\n",
       "      <th>lot_frontage</th>\n",
       "      <td>-0.000000</td>\n",
       "      <td>0.000000</td>\n",
       "    </tr>\n",
       "    <tr>\n",
       "      <th>lot_area</th>\n",
       "      <td>1715.971105</td>\n",
       "      <td>1715.971105</td>\n",
       "    </tr>\n",
       "    <tr>\n",
       "      <th>overall_qual</th>\n",
       "      <td>12486.642130</td>\n",
       "      <td>12486.642130</td>\n",
       "    </tr>\n",
       "    <tr>\n",
       "      <th>overall_cond</th>\n",
       "      <td>3690.270684</td>\n",
       "      <td>3690.270684</td>\n",
       "    </tr>\n",
       "    <tr>\n",
       "      <th>year_built</th>\n",
       "      <td>5458.882084</td>\n",
       "      <td>5458.882084</td>\n",
       "    </tr>\n",
       "  </tbody>\n",
       "</table>\n",
       "</div>"
      ],
      "text/plain": [
       "                   weights         abs_w\n",
       "lot_frontage     -0.000000      0.000000\n",
       "lot_area       1715.971105   1715.971105\n",
       "overall_qual  12486.642130  12486.642130\n",
       "overall_cond   3690.270684   3690.270684\n",
       "year_built     5458.882084   5458.882084"
      ]
     },
     "execution_count": 27,
     "metadata": {},
     "output_type": "execute_result"
    }
   ],
   "source": [
    "betas.head()"
   ]
  },
  {
   "cell_type": "markdown",
   "metadata": {},
   "source": [
    "Below we can output the top 25 weighted features"
   ]
  },
  {
   "cell_type": "code",
   "execution_count": 30,
   "metadata": {},
   "outputs": [],
   "source": [
    "weights_top25 = betas.sort_values('abs_w', ascending=False)['weights'].head(25)"
   ]
  },
  {
   "cell_type": "code",
   "execution_count": 31,
   "metadata": {},
   "outputs": [
    {
     "data": {
      "text/plain": [
       "gr_liv_area             16263.157214\n",
       "overall_qual            12486.642130\n",
       "neighborhood_NridgHt     7791.350492\n",
       "neighborhood_StoneBr     7050.515602\n",
       "neighborhood_NoRidge     6300.293522\n",
       "kitchen_qual_Ex          5938.644767\n",
       "year_built               5458.882084\n",
       "bldg_type_1Fam           5428.714813\n",
       "exter_qual_Ex            5428.043591\n",
       "bsmt_exposure_Gd         5280.487742\n",
       "bsmt_qual_Ex             4889.071513\n",
       "garage_cars              4687.443240\n",
       "bsmt_full_bath           4632.763795\n",
       "pool_qc_Gd              -4545.034398\n",
       "fireplaces               4047.615178\n",
       "full_bath                3872.511491\n",
       "screen_porch             3743.722787\n",
       "overall_cond             3690.270684\n",
       "neighborhood_GrnHill     3660.236491\n",
       "total_bsmt_sf            3400.075995\n",
       "neighborhood_Somerst     2837.373052\n",
       "roof_matl_WdShngl        2813.034975\n",
       "neighborhood_Edwards    -2636.595376\n",
       "sale_type_New            2436.673047\n",
       "neighborhood_Crawfor     2384.667888\n",
       "Name: weights, dtype: float64"
      ]
     },
     "execution_count": 31,
     "metadata": {},
     "output_type": "execute_result"
    }
   ],
   "source": [
    "weights_top25"
   ]
  },
  {
   "cell_type": "markdown",
   "metadata": {},
   "source": [
    "We see that the above ground living area is our most heavily weighted feature"
   ]
  },
  {
   "cell_type": "markdown",
   "metadata": {},
   "source": [
    "We'll return the standard deviation of a few of our features in order to interpret the coefficients"
   ]
  },
  {
   "cell_type": "code",
   "execution_count": 32,
   "metadata": {},
   "outputs": [
    {
     "name": "stdout",
     "output_type": "stream",
     "text": [
      "500.32581365720415\n",
      "1.425922798808365\n"
     ]
    }
   ],
   "source": [
    "print(np.std(train_clean['gr_liv_area']))\n",
    "\n",
    "print(np.std(train_clean['overall_qual']))"
   ]
  },
  {
   "cell_type": "markdown",
   "metadata": {},
   "source": [
    "We see that when the above ground sqft increases by 500, the value of a home increases by $16K"
   ]
  },
  {
   "cell_type": "markdown",
   "metadata": {},
   "source": [
    " And when the overall quality rating of a home increases by 1.4, the home value increases by $13K\n"
   ]
  },
  {
   "cell_type": "markdown",
   "metadata": {},
   "source": [
    "We can check to see how many features had a coefficient of zero and therefore no effect on the model"
   ]
  },
  {
   "cell_type": "code",
   "execution_count": 33,
   "metadata": {},
   "outputs": [
    {
     "data": {
      "text/plain": [
       "201"
      ]
     },
     "execution_count": 33,
     "metadata": {},
     "output_type": "execute_result"
    }
   ],
   "source": [
    "(betas.weights == 0).sum()"
   ]
  },
  {
   "cell_type": "markdown",
   "metadata": {},
   "source": [
    "Below we can see some of the features that had coefficients of zero.\n",
    "\n",
    "Some interesting features to note are the exterior condition, bsmt quality, and foundation"
   ]
  },
  {
   "cell_type": "code",
   "execution_count": 36,
   "metadata": {},
   "outputs": [],
   "source": [
    "weights_bot50 = betas.sort_values('abs_w', ascending=True)['weights'].head(50)"
   ]
  },
  {
   "cell_type": "code",
   "execution_count": 37,
   "metadata": {},
   "outputs": [
    {
     "data": {
      "text/plain": [
       "lot_frontage           -0.0\n",
       "exterior_2nd_Plywood   -0.0\n",
       "exterior_2nd_Stone     -0.0\n",
       "exterior_2nd_Wd Sdng   -0.0\n",
       "exterior_2nd_Wd Shng   -0.0\n",
       "mas_vnr_type_BrkFace   -0.0\n",
       "mas_vnr_type_None       0.0\n",
       "mas_vnr_type_Stone      0.0\n",
       "exter_qual_Gd           0.0\n",
       "exter_cond_Ex           0.0\n",
       "exter_cond_Fa           0.0\n",
       "exter_cond_Gd           0.0\n",
       "exter_cond_Po          -0.0\n",
       "exter_cond_TA          -0.0\n",
       "exterior_2nd_MetalSd    0.0\n",
       "foundation_BrkTil      -0.0\n",
       "foundation_Slab        -0.0\n",
       "foundation_Stone        0.0\n",
       "foundation_Wood         0.0\n",
       "bsmt_qual_Fa            0.0\n",
       "bsmt_qual_Gd            0.0\n",
       "bsmt_qual_NA           -0.0\n",
       "bsmt_qual_Po            0.0\n",
       "bsmt_qual_TA           -0.0\n",
       "bsmt_cond_Ex           -0.0\n",
       "bsmt_cond_Gd           -0.0\n",
       "bsmt_cond_NA           -0.0\n",
       "bsmt_cond_Po            0.0\n",
       "bsmt_cond_TA            0.0\n",
       "foundation_CBlock      -0.0\n",
       "bsmt_exposure_Mn       -0.0\n",
       "exterior_2nd_ImStucc   -0.0\n",
       "exterior_2nd_CmentBd    0.0\n",
       "house_style_1.5Fin     -0.0\n",
       "house_style_1.5Unf      0.0\n",
       "house_style_1Story      0.0\n",
       "house_style_2.5Unf      0.0\n",
       "house_style_2Story     -0.0\n",
       "house_style_SFoyer     -0.0\n",
       "house_style_SLvl       -0.0\n",
       "roof_style_Flat        -0.0\n",
       "roof_style_Gable       -0.0\n",
       "roof_style_Gambrel      0.0\n",
       "roof_style_Shed        -0.0\n",
       "roof_matl_CompShg      -0.0\n",
       "roof_matl_WdShake       0.0\n",
       "exterior_2nd_HdBoard   -0.0\n",
       "exterior_1st_AsbShng   -0.0\n",
       "exterior_1st_CBlock    -0.0\n",
       "exterior_1st_CemntBd    0.0\n",
       "Name: weights, dtype: float64"
      ]
     },
     "execution_count": 37,
     "metadata": {},
     "output_type": "execute_result"
    }
   ],
   "source": [
    "weights_bot50"
   ]
  },
  {
   "cell_type": "markdown",
   "metadata": {},
   "source": [
    "We can also visualize this with a bar chart"
   ]
  },
  {
   "cell_type": "code",
   "execution_count": 53,
   "metadata": {},
   "outputs": [
    {
     "data": {
      "image/png": "[encoded data removed]",
      "text/plain": [
       "<Figure size 1440x720 with 1 Axes>"
      ]
     },
     "metadata": {
      "needs_background": "light"
     },
     "output_type": "display_data"
    }
   ],
   "source": [
    "weights_top10 = betas.sort_values('abs_w', ascending=False)['weights'].head(10)\n",
    "\n",
    "labels = weights_top10.index\n",
    "\n",
    "plt.figure(figsize=(20,10))\n",
    "plt.barh(labels, weights_top10, color='blue')\n",
    "plt.yticks(fontsize=20)\n",
    "plt.xticks(fontsize=20)\n",
    "plt.xlabel('Weights', fontsize=30)\n",
    "plt.title('Most Important Features and Weights', fontsize=42)\n",
    "plt.tight_layout();\n",
    "\n",
    "# Saving the image\n",
    "# plt.savefig('../images/important_weights.png');"
   ]
  },
  {
   "cell_type": "markdown",
   "metadata": {},
   "source": [
    "Below we can examine features that had the highest negative impact on sale price."
   ]
  },
  {
   "cell_type": "code",
   "execution_count": 38,
   "metadata": {},
   "outputs": [
    {
     "data": {
      "text/plain": [
       "pool_qc_Gd             -4545.034398\n",
       "neighborhood_Edwards   -2636.595376\n",
       "bsmtfin_type_1_Unf     -2147.208154\n",
       "land_contour_Bnk       -2139.626233\n",
       "exter_qual_TA          -2097.015201\n",
       "lot_shape_IR3          -1970.555664\n",
       "bldg_type_TwnhsE       -1156.439055\n",
       "roof_style_Mansard     -1092.850713\n",
       "kitchen_qual_TA        -1083.478424\n",
       "exterior_1st_Stucco    -1007.931991\n",
       "exterior_1st_HdBoard    -988.952632\n",
       "ms_zoning_RM            -913.008699\n",
       "functional_Sal          -858.445627\n",
       "ms_subclass_150         -856.832016\n",
       "fireplace_qu_Fa         -805.338721\n",
       "neighborhood_OldTown    -727.428544\n",
       "garage_type_Detchd      -708.255061\n",
       "functional_Sev          -688.338515\n",
       "mas_vnr_type_BrkCmn     -595.188102\n",
       "kitchen_abvgr           -544.890902\n",
       "Name: weights, dtype: float64"
      ]
     },
     "execution_count": 38,
     "metadata": {},
     "output_type": "execute_result"
    }
   ],
   "source": [
    "betas.sort_values('weights', ascending=True)['weights'].head(20)"
   ]
  },
  {
   "cell_type": "markdown",
   "metadata": {},
   "source": [
    "The highest is the pool quality being rated good, and living in the Edwards neighborhood."
   ]
  },
  {
   "cell_type": "code",
   "execution_count": null,
   "metadata": {},
   "outputs": [],
   "source": [
    "(y_test - grid.predict(X_test_ss)).max()"
   ]
  },
  {
   "cell_type": "markdown",
   "metadata": {},
   "source": [
    "## Examing Residuals"
   ]
  },
  {
   "cell_type": "markdown",
   "metadata": {},
   "source": [
    "Below we'll plot actual home prices against the residuals on the identity line. This will give us an indication of where our model is working predicting well, and where it is breaking down"
   ]
  },
  {
   "cell_type": "code",
   "execution_count": 40,
   "metadata": {},
   "outputs": [
    {
     "data": {
      "text/plain": [
       "''"
      ]
     },
     "execution_count": 40,
     "metadata": {},
     "output_type": "execute_result"
    },
    {
     "data": {
      "image/png": "[encoded data removed]",
      "text/plain": [
       "<Figure size 864x432 with 1 Axes>"
      ]
     },
     "metadata": {
      "needs_background": "light"
     },
     "output_type": "display_data"
    }
   ],
   "source": [
    "# Create a figure.\n",
    "plt.figure(figsize=(12,6))\n",
    "\n",
    "plt.scatter(y_test, grid.predict(X_test_ss), c='blue')\n",
    "plt.title('Actual vs Predicted Sales Prices', fontsize=30)\n",
    "plt.plot([0, 550000], [0, 550000], lw=5, ls='--',c='darkgrey')\n",
    "plt.xlabel('Actual Sales Price $', fontsize=20)\n",
    "plt.ylabel('Predicted Sales Price $', fontsize=20)\n",
    ";\n",
    "# Saving the image\n",
    "# plt.savefig('../images/act_pred_scatter.png');"
   ]
  },
  {
   "cell_type": "markdown",
   "metadata": {},
   "source": [
    "We can see that our predictions are better for homes prices between 100-200K and start to get worse as the sale prices increase"
   ]
  },
  {
   "cell_type": "markdown",
   "metadata": {},
   "source": [
    "We can see in this histogram of the sale prices, the distribution "
   ]
  },
  {
   "cell_type": "markdown",
   "metadata": {},
   "source": [
    "## Calculating RMSE"
   ]
  },
  {
   "cell_type": "markdown",
   "metadata": {},
   "source": [
    "Below we'll calculate the RMSE for our model. This tells us on avg. how far our predictions we're from the actaul sale prices."
   ]
  },
  {
   "cell_type": "code",
   "execution_count": 45,
   "metadata": {},
   "outputs": [
    {
     "data": {
      "text/plain": [
       "24309.49443382494"
      ]
     },
     "execution_count": 45,
     "metadata": {},
     "output_type": "execute_result"
    }
   ],
   "source": [
    "(((y_test - grid.predict(X_test_ss))**2).sum()/len(grid.predict(X_test_ss)))**0.5"
   ]
  },
  {
   "cell_type": "markdown",
   "metadata": {},
   "source": [
    "We can see that on avg. our predictions were $24K off from the actaul sale price"
   ]
  },
  {
   "cell_type": "markdown",
   "metadata": {},
   "source": [
    "## Exploring Outliers"
   ]
  },
  {
   "cell_type": "markdown",
   "metadata": {},
   "source": [
    "Next we'll append our predictions to our original data frame, so that we can better understand where our predictions were quite poor"
   ]
  },
  {
   "cell_type": "markdown",
   "metadata": {},
   "source": [
    "Step 1) Create a data frame with our predictions, and set the index to that of the true observations in the test data set"
   ]
  },
  {
   "cell_type": "code",
   "execution_count": 47,
   "metadata": {},
   "outputs": [],
   "source": [
    "# Adapted from Chris Sanatra\n",
    "pred_df = pd.DataFrame(data=grid.predict(X_test_ss),index=y_test.index.to_list())"
   ]
  },
  {
   "cell_type": "code",
   "execution_count": 48,
   "metadata": {},
   "outputs": [
    {
     "data": {
      "text/html": [
       "<div>\n",
       "<style scoped>\n",
       "    .dataframe tbody tr th:only-of-type {\n",
       "        vertical-align: middle;\n",
       "    }\n",
       "\n",
       "    .dataframe tbody tr th {\n",
       "        vertical-align: top;\n",
       "    }\n",
       "\n",
       "    .dataframe thead th {\n",
       "        text-align: right;\n",
       "    }\n",
       "</style>\n",
       "<table border=\"1\" class=\"dataframe\">\n",
       "  <thead>\n",
       "    <tr style=\"text-align: right;\">\n",
       "      <th></th>\n",
       "      <th>0</th>\n",
       "    </tr>\n",
       "  </thead>\n",
       "  <tbody>\n",
       "    <tr>\n",
       "      <th>2782</th>\n",
       "      <td>127041.968763</td>\n",
       "    </tr>\n",
       "    <tr>\n",
       "      <th>2569</th>\n",
       "      <td>217284.090236</td>\n",
       "    </tr>\n",
       "    <tr>\n",
       "      <th>1062</th>\n",
       "      <td>313838.694650</td>\n",
       "    </tr>\n",
       "    <tr>\n",
       "      <th>287</th>\n",
       "      <td>124813.324394</td>\n",
       "    </tr>\n",
       "    <tr>\n",
       "      <th>2809</th>\n",
       "      <td>201516.561700</td>\n",
       "    </tr>\n",
       "  </tbody>\n",
       "</table>\n",
       "</div>"
      ],
      "text/plain": [
       "                  0\n",
       "2782  127041.968763\n",
       "2569  217284.090236\n",
       "1062  313838.694650\n",
       "287   124813.324394\n",
       "2809  201516.561700"
      ]
     },
     "execution_count": 48,
     "metadata": {},
     "output_type": "execute_result"
    }
   ],
   "source": [
    "pred_df.head()"
   ]
  },
  {
   "cell_type": "code",
   "execution_count": 56,
   "metadata": {},
   "outputs": [],
   "source": [
    "pred_df = pred_df.rename(columns={0: 'predictions'})"
   ]
  },
  {
   "cell_type": "markdown",
   "metadata": {},
   "source": [
    "Now that we have our dataframe of predictions, we'll join this back to our original data set"
   ]
  },
  {
   "cell_type": "code",
   "execution_count": 57,
   "metadata": {},
   "outputs": [],
   "source": [
    "train_clean_pred = pd.merge(train_clean, pred_df, how='inner',left_index=True,right_index=True)"
   ]
  },
  {
   "cell_type": "code",
   "execution_count": 58,
   "metadata": {},
   "outputs": [
    {
     "data": {
      "text/html": [
       "<div>\n",
       "<style scoped>\n",
       "    .dataframe tbody tr th:only-of-type {\n",
       "        vertical-align: middle;\n",
       "    }\n",
       "\n",
       "    .dataframe tbody tr th {\n",
       "        vertical-align: top;\n",
       "    }\n",
       "\n",
       "    .dataframe thead th {\n",
       "        text-align: right;\n",
       "    }\n",
       "</style>\n",
       "<table border=\"1\" class=\"dataframe\">\n",
       "  <thead>\n",
       "    <tr style=\"text-align: right;\">\n",
       "      <th></th>\n",
       "      <th>ms_subclass</th>\n",
       "      <th>ms_zoning</th>\n",
       "      <th>lot_frontage</th>\n",
       "      <th>lot_area</th>\n",
       "      <th>street</th>\n",
       "      <th>alley</th>\n",
       "      <th>lot_shape</th>\n",
       "      <th>land_contour</th>\n",
       "      <th>utilities</th>\n",
       "      <th>lot_config</th>\n",
       "      <th>...</th>\n",
       "      <th>screen_porch</th>\n",
       "      <th>pool_area</th>\n",
       "      <th>pool_qc</th>\n",
       "      <th>fence</th>\n",
       "      <th>misc_feature</th>\n",
       "      <th>mo_sold</th>\n",
       "      <th>yr_sold</th>\n",
       "      <th>sale_type</th>\n",
       "      <th>saleprice</th>\n",
       "      <th>predictions</th>\n",
       "    </tr>\n",
       "  </thead>\n",
       "  <tbody>\n",
       "    <tr>\n",
       "      <th>153</th>\n",
       "      <td>20</td>\n",
       "      <td>RL</td>\n",
       "      <td>68.0000</td>\n",
       "      <td>7922</td>\n",
       "      <td>Pave</td>\n",
       "      <td>NA</td>\n",
       "      <td>Reg</td>\n",
       "      <td>Lvl</td>\n",
       "      <td>AllPub</td>\n",
       "      <td>Inside</td>\n",
       "      <td>...</td>\n",
       "      <td>0</td>\n",
       "      <td>0</td>\n",
       "      <td>NA</td>\n",
       "      <td>NA</td>\n",
       "      <td>NA</td>\n",
       "      <td>1</td>\n",
       "      <td>2010</td>\n",
       "      <td>WD</td>\n",
       "      <td>109000</td>\n",
       "      <td>137732.641557</td>\n",
       "    </tr>\n",
       "    <tr>\n",
       "      <th>12</th>\n",
       "      <td>20</td>\n",
       "      <td>RL</td>\n",
       "      <td>69.0552</td>\n",
       "      <td>7980</td>\n",
       "      <td>Pave</td>\n",
       "      <td>NA</td>\n",
       "      <td>IR1</td>\n",
       "      <td>Lvl</td>\n",
       "      <td>AllPub</td>\n",
       "      <td>Inside</td>\n",
       "      <td>...</td>\n",
       "      <td>0</td>\n",
       "      <td>0</td>\n",
       "      <td>NA</td>\n",
       "      <td>GdPrv</td>\n",
       "      <td>Shed</td>\n",
       "      <td>3</td>\n",
       "      <td>2010</td>\n",
       "      <td>WD</td>\n",
       "      <td>185000</td>\n",
       "      <td>176442.249062</td>\n",
       "    </tr>\n",
       "    <tr>\n",
       "      <th>624</th>\n",
       "      <td>20</td>\n",
       "      <td>RL</td>\n",
       "      <td>92.0000</td>\n",
       "      <td>10573</td>\n",
       "      <td>Pave</td>\n",
       "      <td>NA</td>\n",
       "      <td>IR1</td>\n",
       "      <td>Lvl</td>\n",
       "      <td>AllPub</td>\n",
       "      <td>Corner</td>\n",
       "      <td>...</td>\n",
       "      <td>288</td>\n",
       "      <td>0</td>\n",
       "      <td>NA</td>\n",
       "      <td>GdPrv</td>\n",
       "      <td>NA</td>\n",
       "      <td>4</td>\n",
       "      <td>2009</td>\n",
       "      <td>WD</td>\n",
       "      <td>187500</td>\n",
       "      <td>202281.389028</td>\n",
       "    </tr>\n",
       "    <tr>\n",
       "      <th>1957</th>\n",
       "      <td>50</td>\n",
       "      <td>RL</td>\n",
       "      <td>60.0000</td>\n",
       "      <td>8064</td>\n",
       "      <td>Pave</td>\n",
       "      <td>NA</td>\n",
       "      <td>Reg</td>\n",
       "      <td>Lvl</td>\n",
       "      <td>AllPub</td>\n",
       "      <td>Corner</td>\n",
       "      <td>...</td>\n",
       "      <td>0</td>\n",
       "      <td>0</td>\n",
       "      <td>NA</td>\n",
       "      <td>MnPrv</td>\n",
       "      <td>Shed</td>\n",
       "      <td>7</td>\n",
       "      <td>2007</td>\n",
       "      <td>WD</td>\n",
       "      <td>122900</td>\n",
       "      <td>123084.380888</td>\n",
       "    </tr>\n",
       "    <tr>\n",
       "      <th>380</th>\n",
       "      <td>20</td>\n",
       "      <td>RL</td>\n",
       "      <td>80.0000</td>\n",
       "      <td>9600</td>\n",
       "      <td>Pave</td>\n",
       "      <td>NA</td>\n",
       "      <td>Reg</td>\n",
       "      <td>Lvl</td>\n",
       "      <td>AllPub</td>\n",
       "      <td>Inside</td>\n",
       "      <td>...</td>\n",
       "      <td>0</td>\n",
       "      <td>0</td>\n",
       "      <td>NA</td>\n",
       "      <td>MnPrv</td>\n",
       "      <td>NA</td>\n",
       "      <td>7</td>\n",
       "      <td>2009</td>\n",
       "      <td>WD</td>\n",
       "      <td>278000</td>\n",
       "      <td>347421.899046</td>\n",
       "    </tr>\n",
       "  </tbody>\n",
       "</table>\n",
       "<p>5 rows × 79 columns</p>\n",
       "</div>"
      ],
      "text/plain": [
       "     ms_subclass ms_zoning  lot_frontage  lot_area street alley lot_shape  \\\n",
       "153           20        RL       68.0000      7922   Pave    NA       Reg   \n",
       "12            20        RL       69.0552      7980   Pave    NA       IR1   \n",
       "624           20        RL       92.0000     10573   Pave    NA       IR1   \n",
       "1957          50        RL       60.0000      8064   Pave    NA       Reg   \n",
       "380           20        RL       80.0000      9600   Pave    NA       Reg   \n",
       "\n",
       "     land_contour utilities lot_config  ... screen_porch pool_area pool_qc  \\\n",
       "153           Lvl    AllPub     Inside  ...            0         0      NA   \n",
       "12            Lvl    AllPub     Inside  ...            0         0      NA   \n",
       "624           Lvl    AllPub     Corner  ...          288         0      NA   \n",
       "1957          Lvl    AllPub     Corner  ...            0         0      NA   \n",
       "380           Lvl    AllPub     Inside  ...            0         0      NA   \n",
       "\n",
       "      fence misc_feature mo_sold  yr_sold  sale_type  saleprice    predictions  \n",
       "153      NA           NA       1     2010        WD      109000  137732.641557  \n",
       "12    GdPrv         Shed       3     2010        WD      185000  176442.249062  \n",
       "624   GdPrv           NA       4     2009        WD      187500  202281.389028  \n",
       "1957  MnPrv         Shed       7     2007        WD      122900  123084.380888  \n",
       "380   MnPrv           NA       7     2009        WD      278000  347421.899046  \n",
       "\n",
       "[5 rows x 79 columns]"
      ]
     },
     "execution_count": 58,
     "metadata": {},
     "output_type": "execute_result"
    }
   ],
   "source": [
    "train_clean_pred.head()"
   ]
  },
  {
   "cell_type": "markdown",
   "metadata": {},
   "source": [
    "We'll create a new field that calculates the residual, or the saleprice - the prediction"
   ]
  },
  {
   "cell_type": "code",
   "execution_count": 59,
   "metadata": {},
   "outputs": [],
   "source": [
    "train_clean_pred['residual'] = train_clean_pred.saleprice - train_clean_pred.predictions"
   ]
  },
  {
   "cell_type": "code",
   "execution_count": 60,
   "metadata": {},
   "outputs": [
    {
     "data": {
      "text/html": [
       "<div>\n",
       "<style scoped>\n",
       "    .dataframe tbody tr th:only-of-type {\n",
       "        vertical-align: middle;\n",
       "    }\n",
       "\n",
       "    .dataframe tbody tr th {\n",
       "        vertical-align: top;\n",
       "    }\n",
       "\n",
       "    .dataframe thead th {\n",
       "        text-align: right;\n",
       "    }\n",
       "</style>\n",
       "<table border=\"1\" class=\"dataframe\">\n",
       "  <thead>\n",
       "    <tr style=\"text-align: right;\">\n",
       "      <th></th>\n",
       "      <th>ms_subclass</th>\n",
       "      <th>ms_zoning</th>\n",
       "      <th>lot_frontage</th>\n",
       "      <th>lot_area</th>\n",
       "      <th>street</th>\n",
       "      <th>alley</th>\n",
       "      <th>lot_shape</th>\n",
       "      <th>land_contour</th>\n",
       "      <th>utilities</th>\n",
       "      <th>lot_config</th>\n",
       "      <th>...</th>\n",
       "      <th>pool_area</th>\n",
       "      <th>pool_qc</th>\n",
       "      <th>fence</th>\n",
       "      <th>misc_feature</th>\n",
       "      <th>mo_sold</th>\n",
       "      <th>yr_sold</th>\n",
       "      <th>sale_type</th>\n",
       "      <th>saleprice</th>\n",
       "      <th>predictions</th>\n",
       "      <th>residual</th>\n",
       "    </tr>\n",
       "  </thead>\n",
       "  <tbody>\n",
       "    <tr>\n",
       "      <th>153</th>\n",
       "      <td>20</td>\n",
       "      <td>RL</td>\n",
       "      <td>68.0000</td>\n",
       "      <td>7922</td>\n",
       "      <td>Pave</td>\n",
       "      <td>NA</td>\n",
       "      <td>Reg</td>\n",
       "      <td>Lvl</td>\n",
       "      <td>AllPub</td>\n",
       "      <td>Inside</td>\n",
       "      <td>...</td>\n",
       "      <td>0</td>\n",
       "      <td>NA</td>\n",
       "      <td>NA</td>\n",
       "      <td>NA</td>\n",
       "      <td>1</td>\n",
       "      <td>2010</td>\n",
       "      <td>WD</td>\n",
       "      <td>109000</td>\n",
       "      <td>137732.641557</td>\n",
       "      <td>-28732.641557</td>\n",
       "    </tr>\n",
       "    <tr>\n",
       "      <th>12</th>\n",
       "      <td>20</td>\n",
       "      <td>RL</td>\n",
       "      <td>69.0552</td>\n",
       "      <td>7980</td>\n",
       "      <td>Pave</td>\n",
       "      <td>NA</td>\n",
       "      <td>IR1</td>\n",
       "      <td>Lvl</td>\n",
       "      <td>AllPub</td>\n",
       "      <td>Inside</td>\n",
       "      <td>...</td>\n",
       "      <td>0</td>\n",
       "      <td>NA</td>\n",
       "      <td>GdPrv</td>\n",
       "      <td>Shed</td>\n",
       "      <td>3</td>\n",
       "      <td>2010</td>\n",
       "      <td>WD</td>\n",
       "      <td>185000</td>\n",
       "      <td>176442.249062</td>\n",
       "      <td>8557.750938</td>\n",
       "    </tr>\n",
       "    <tr>\n",
       "      <th>624</th>\n",
       "      <td>20</td>\n",
       "      <td>RL</td>\n",
       "      <td>92.0000</td>\n",
       "      <td>10573</td>\n",
       "      <td>Pave</td>\n",
       "      <td>NA</td>\n",
       "      <td>IR1</td>\n",
       "      <td>Lvl</td>\n",
       "      <td>AllPub</td>\n",
       "      <td>Corner</td>\n",
       "      <td>...</td>\n",
       "      <td>0</td>\n",
       "      <td>NA</td>\n",
       "      <td>GdPrv</td>\n",
       "      <td>NA</td>\n",
       "      <td>4</td>\n",
       "      <td>2009</td>\n",
       "      <td>WD</td>\n",
       "      <td>187500</td>\n",
       "      <td>202281.389028</td>\n",
       "      <td>-14781.389028</td>\n",
       "    </tr>\n",
       "    <tr>\n",
       "      <th>1957</th>\n",
       "      <td>50</td>\n",
       "      <td>RL</td>\n",
       "      <td>60.0000</td>\n",
       "      <td>8064</td>\n",
       "      <td>Pave</td>\n",
       "      <td>NA</td>\n",
       "      <td>Reg</td>\n",
       "      <td>Lvl</td>\n",
       "      <td>AllPub</td>\n",
       "      <td>Corner</td>\n",
       "      <td>...</td>\n",
       "      <td>0</td>\n",
       "      <td>NA</td>\n",
       "      <td>MnPrv</td>\n",
       "      <td>Shed</td>\n",
       "      <td>7</td>\n",
       "      <td>2007</td>\n",
       "      <td>WD</td>\n",
       "      <td>122900</td>\n",
       "      <td>123084.380888</td>\n",
       "      <td>-184.380888</td>\n",
       "    </tr>\n",
       "    <tr>\n",
       "      <th>380</th>\n",
       "      <td>20</td>\n",
       "      <td>RL</td>\n",
       "      <td>80.0000</td>\n",
       "      <td>9600</td>\n",
       "      <td>Pave</td>\n",
       "      <td>NA</td>\n",
       "      <td>Reg</td>\n",
       "      <td>Lvl</td>\n",
       "      <td>AllPub</td>\n",
       "      <td>Inside</td>\n",
       "      <td>...</td>\n",
       "      <td>0</td>\n",
       "      <td>NA</td>\n",
       "      <td>MnPrv</td>\n",
       "      <td>NA</td>\n",
       "      <td>7</td>\n",
       "      <td>2009</td>\n",
       "      <td>WD</td>\n",
       "      <td>278000</td>\n",
       "      <td>347421.899046</td>\n",
       "      <td>-69421.899046</td>\n",
       "    </tr>\n",
       "  </tbody>\n",
       "</table>\n",
       "<p>5 rows × 80 columns</p>\n",
       "</div>"
      ],
      "text/plain": [
       "     ms_subclass ms_zoning  lot_frontage  lot_area street alley lot_shape  \\\n",
       "153           20        RL       68.0000      7922   Pave    NA       Reg   \n",
       "12            20        RL       69.0552      7980   Pave    NA       IR1   \n",
       "624           20        RL       92.0000     10573   Pave    NA       IR1   \n",
       "1957          50        RL       60.0000      8064   Pave    NA       Reg   \n",
       "380           20        RL       80.0000      9600   Pave    NA       Reg   \n",
       "\n",
       "     land_contour utilities lot_config  ... pool_area pool_qc  fence  \\\n",
       "153           Lvl    AllPub     Inside  ...         0      NA     NA   \n",
       "12            Lvl    AllPub     Inside  ...         0      NA  GdPrv   \n",
       "624           Lvl    AllPub     Corner  ...         0      NA  GdPrv   \n",
       "1957          Lvl    AllPub     Corner  ...         0      NA  MnPrv   \n",
       "380           Lvl    AllPub     Inside  ...         0      NA  MnPrv   \n",
       "\n",
       "     misc_feature mo_sold yr_sold  sale_type  saleprice    predictions  \\\n",
       "153            NA       1    2010        WD      109000  137732.641557   \n",
       "12           Shed       3    2010        WD      185000  176442.249062   \n",
       "624            NA       4    2009        WD      187500  202281.389028   \n",
       "1957         Shed       7    2007        WD      122900  123084.380888   \n",
       "380            NA       7    2009        WD      278000  347421.899046   \n",
       "\n",
       "          residual  \n",
       "153  -28732.641557  \n",
       "12     8557.750938  \n",
       "624  -14781.389028  \n",
       "1957   -184.380888  \n",
       "380  -69421.899046  \n",
       "\n",
       "[5 rows x 80 columns]"
      ]
     },
     "execution_count": 60,
     "metadata": {},
     "output_type": "execute_result"
    }
   ],
   "source": [
    "train_clean_pred.head()"
   ]
  },
  {
   "cell_type": "markdown",
   "metadata": {},
   "source": [
    "Next let's examine our actuals sales and the residuals"
   ]
  },
  {
   "cell_type": "code",
   "execution_count": 62,
   "metadata": {},
   "outputs": [
    {
     "data": {
      "text/plain": [
       "''"
      ]
     },
     "execution_count": 62,
     "metadata": {},
     "output_type": "execute_result"
    },
    {
     "data": {
      "image/png": "[encoded data removed]",
      "text/plain": [
       "<Figure size 864x432 with 1 Axes>"
      ]
     },
     "metadata": {
      "needs_background": "light"
     },
     "output_type": "display_data"
    }
   ],
   "source": [
    "# Create a figure.\n",
    "plt.figure(figsize=(12,6))\n",
    "\n",
    "plt.scatter(train_clean_pred.saleprice, train_clean_pred.residual, c='blue')\n",
    "plt.title('Actual Sales Price vs Error in $', fontsize=30)\n",
    "plt.axhline(y=0,c='darkgrey', linewidth=4, linestyle='--')\n",
    "plt.xlabel('Actual Sales Price $', fontsize=20)\n",
    "plt.ylabel('Difference in Actual vs Predicted $', fontsize=20)\n",
    ";\n",
    "# Saving the image\n",
    "# plt.savefig('../images/act_residual_scatter.png');"
   ]
  },
  {
   "cell_type": "markdown",
   "metadata": {},
   "source": [
    "With this scatter we can see much more clearly that not only do we have some instance where we under predicted higher value homes, we also had cases where we overpredicted homes in the 200-300K range"
   ]
  },
  {
   "cell_type": "code",
   "execution_count": 63,
   "metadata": {},
   "outputs": [
    {
     "data": {
      "text/plain": [
       "count       513.000000\n",
       "mean      -1236.099471\n",
       "std       24301.744704\n",
       "min     -102186.421333\n",
       "25%      -12811.727484\n",
       "50%       -2249.299306\n",
       "75%        8771.411264\n",
       "max      162116.388296\n",
       "Name: residual, dtype: float64"
      ]
     },
     "execution_count": 63,
     "metadata": {},
     "output_type": "execute_result"
    }
   ],
   "source": [
    "train_clean_pred['residual'].describe()"
   ]
  },
  {
   "cell_type": "markdown",
   "metadata": {},
   "source": [
    "Here we can see our worst under prediction was by 162K, and our worst over prediction was by 102K"
   ]
  },
  {
   "cell_type": "markdown",
   "metadata": {},
   "source": [
    "Now we'll take the absolue value of the residual and append that field to the data frame"
   ]
  },
  {
   "cell_type": "code",
   "execution_count": 64,
   "metadata": {},
   "outputs": [],
   "source": [
    "train_clean_pred['residual_abs'] = train_clean_pred['residual'].map((lambda x: round(abs(x),2)))"
   ]
  },
  {
   "cell_type": "code",
   "execution_count": 65,
   "metadata": {},
   "outputs": [
    {
     "data": {
      "text/html": [
       "<div>\n",
       "<style scoped>\n",
       "    .dataframe tbody tr th:only-of-type {\n",
       "        vertical-align: middle;\n",
       "    }\n",
       "\n",
       "    .dataframe tbody tr th {\n",
       "        vertical-align: top;\n",
       "    }\n",
       "\n",
       "    .dataframe thead th {\n",
       "        text-align: right;\n",
       "    }\n",
       "</style>\n",
       "<table border=\"1\" class=\"dataframe\">\n",
       "  <thead>\n",
       "    <tr style=\"text-align: right;\">\n",
       "      <th></th>\n",
       "      <th>ms_subclass</th>\n",
       "      <th>ms_zoning</th>\n",
       "      <th>lot_frontage</th>\n",
       "      <th>lot_area</th>\n",
       "      <th>street</th>\n",
       "      <th>alley</th>\n",
       "      <th>lot_shape</th>\n",
       "      <th>land_contour</th>\n",
       "      <th>utilities</th>\n",
       "      <th>lot_config</th>\n",
       "      <th>...</th>\n",
       "      <th>pool_qc</th>\n",
       "      <th>fence</th>\n",
       "      <th>misc_feature</th>\n",
       "      <th>mo_sold</th>\n",
       "      <th>yr_sold</th>\n",
       "      <th>sale_type</th>\n",
       "      <th>saleprice</th>\n",
       "      <th>predictions</th>\n",
       "      <th>residual</th>\n",
       "      <th>residual_abs</th>\n",
       "    </tr>\n",
       "  </thead>\n",
       "  <tbody>\n",
       "    <tr>\n",
       "      <th>153</th>\n",
       "      <td>20</td>\n",
       "      <td>RL</td>\n",
       "      <td>68.0000</td>\n",
       "      <td>7922</td>\n",
       "      <td>Pave</td>\n",
       "      <td>NA</td>\n",
       "      <td>Reg</td>\n",
       "      <td>Lvl</td>\n",
       "      <td>AllPub</td>\n",
       "      <td>Inside</td>\n",
       "      <td>...</td>\n",
       "      <td>NA</td>\n",
       "      <td>NA</td>\n",
       "      <td>NA</td>\n",
       "      <td>1</td>\n",
       "      <td>2010</td>\n",
       "      <td>WD</td>\n",
       "      <td>109000</td>\n",
       "      <td>137732.641557</td>\n",
       "      <td>-28732.641557</td>\n",
       "      <td>28732.64</td>\n",
       "    </tr>\n",
       "    <tr>\n",
       "      <th>12</th>\n",
       "      <td>20</td>\n",
       "      <td>RL</td>\n",
       "      <td>69.0552</td>\n",
       "      <td>7980</td>\n",
       "      <td>Pave</td>\n",
       "      <td>NA</td>\n",
       "      <td>IR1</td>\n",
       "      <td>Lvl</td>\n",
       "      <td>AllPub</td>\n",
       "      <td>Inside</td>\n",
       "      <td>...</td>\n",
       "      <td>NA</td>\n",
       "      <td>GdPrv</td>\n",
       "      <td>Shed</td>\n",
       "      <td>3</td>\n",
       "      <td>2010</td>\n",
       "      <td>WD</td>\n",
       "      <td>185000</td>\n",
       "      <td>176442.249062</td>\n",
       "      <td>8557.750938</td>\n",
       "      <td>8557.75</td>\n",
       "    </tr>\n",
       "    <tr>\n",
       "      <th>624</th>\n",
       "      <td>20</td>\n",
       "      <td>RL</td>\n",
       "      <td>92.0000</td>\n",
       "      <td>10573</td>\n",
       "      <td>Pave</td>\n",
       "      <td>NA</td>\n",
       "      <td>IR1</td>\n",
       "      <td>Lvl</td>\n",
       "      <td>AllPub</td>\n",
       "      <td>Corner</td>\n",
       "      <td>...</td>\n",
       "      <td>NA</td>\n",
       "      <td>GdPrv</td>\n",
       "      <td>NA</td>\n",
       "      <td>4</td>\n",
       "      <td>2009</td>\n",
       "      <td>WD</td>\n",
       "      <td>187500</td>\n",
       "      <td>202281.389028</td>\n",
       "      <td>-14781.389028</td>\n",
       "      <td>14781.39</td>\n",
       "    </tr>\n",
       "    <tr>\n",
       "      <th>1957</th>\n",
       "      <td>50</td>\n",
       "      <td>RL</td>\n",
       "      <td>60.0000</td>\n",
       "      <td>8064</td>\n",
       "      <td>Pave</td>\n",
       "      <td>NA</td>\n",
       "      <td>Reg</td>\n",
       "      <td>Lvl</td>\n",
       "      <td>AllPub</td>\n",
       "      <td>Corner</td>\n",
       "      <td>...</td>\n",
       "      <td>NA</td>\n",
       "      <td>MnPrv</td>\n",
       "      <td>Shed</td>\n",
       "      <td>7</td>\n",
       "      <td>2007</td>\n",
       "      <td>WD</td>\n",
       "      <td>122900</td>\n",
       "      <td>123084.380888</td>\n",
       "      <td>-184.380888</td>\n",
       "      <td>184.38</td>\n",
       "    </tr>\n",
       "    <tr>\n",
       "      <th>380</th>\n",
       "      <td>20</td>\n",
       "      <td>RL</td>\n",
       "      <td>80.0000</td>\n",
       "      <td>9600</td>\n",
       "      <td>Pave</td>\n",
       "      <td>NA</td>\n",
       "      <td>Reg</td>\n",
       "      <td>Lvl</td>\n",
       "      <td>AllPub</td>\n",
       "      <td>Inside</td>\n",
       "      <td>...</td>\n",
       "      <td>NA</td>\n",
       "      <td>MnPrv</td>\n",
       "      <td>NA</td>\n",
       "      <td>7</td>\n",
       "      <td>2009</td>\n",
       "      <td>WD</td>\n",
       "      <td>278000</td>\n",
       "      <td>347421.899046</td>\n",
       "      <td>-69421.899046</td>\n",
       "      <td>69421.90</td>\n",
       "    </tr>\n",
       "  </tbody>\n",
       "</table>\n",
       "<p>5 rows × 81 columns</p>\n",
       "</div>"
      ],
      "text/plain": [
       "     ms_subclass ms_zoning  lot_frontage  lot_area street alley lot_shape  \\\n",
       "153           20        RL       68.0000      7922   Pave    NA       Reg   \n",
       "12            20        RL       69.0552      7980   Pave    NA       IR1   \n",
       "624           20        RL       92.0000     10573   Pave    NA       IR1   \n",
       "1957          50        RL       60.0000      8064   Pave    NA       Reg   \n",
       "380           20        RL       80.0000      9600   Pave    NA       Reg   \n",
       "\n",
       "     land_contour utilities lot_config  ... pool_qc  fence misc_feature  \\\n",
       "153           Lvl    AllPub     Inside  ...      NA     NA           NA   \n",
       "12            Lvl    AllPub     Inside  ...      NA  GdPrv         Shed   \n",
       "624           Lvl    AllPub     Corner  ...      NA  GdPrv           NA   \n",
       "1957          Lvl    AllPub     Corner  ...      NA  MnPrv         Shed   \n",
       "380           Lvl    AllPub     Inside  ...      NA  MnPrv           NA   \n",
       "\n",
       "     mo_sold yr_sold sale_type  saleprice    predictions      residual  \\\n",
       "153        1    2010       WD      109000  137732.641557 -28732.641557   \n",
       "12         3    2010       WD      185000  176442.249062   8557.750938   \n",
       "624        4    2009       WD      187500  202281.389028 -14781.389028   \n",
       "1957       7    2007       WD      122900  123084.380888   -184.380888   \n",
       "380        7    2009       WD      278000  347421.899046 -69421.899046   \n",
       "\n",
       "      residual_abs  \n",
       "153       28732.64  \n",
       "12         8557.75  \n",
       "624       14781.39  \n",
       "1957        184.38  \n",
       "380       69421.90  \n",
       "\n",
       "[5 rows x 81 columns]"
      ]
     },
     "execution_count": 65,
     "metadata": {},
     "output_type": "execute_result"
    }
   ],
   "source": [
    "train_clean_pred.head()"
   ]
  },
  {
   "cell_type": "code",
   "execution_count": 67,
   "metadata": {},
   "outputs": [
    {
     "data": {
      "text/plain": [
       "count       513.000000\n",
       "mean      16447.731209\n",
       "std       17917.853899\n",
       "min          18.780000\n",
       "25%        5607.860000\n",
       "50%       11199.080000\n",
       "75%       21189.340000\n",
       "max      162116.390000\n",
       "Name: residual_abs, dtype: float64"
      ]
     },
     "execution_count": 67,
     "metadata": {},
     "output_type": "execute_result"
    }
   ],
   "source": [
    "train_clean_pred.residual_abs.describe().T"
   ]
  },
  {
   "cell_type": "markdown",
   "metadata": {},
   "source": [
    "Here we can see that our Median Absolute Error or MAE is 11K"
   ]
  },
  {
   "cell_type": "code",
   "execution_count": 69,
   "metadata": {},
   "outputs": [
    {
     "data": {
      "text/plain": [
       "gr_liv_area             16263.157214\n",
       "overall_qual            12486.642130\n",
       "neighborhood_NridgHt     7791.350492\n",
       "neighborhood_StoneBr     7050.515602\n",
       "neighborhood_NoRidge     6300.293522\n",
       "kitchen_qual_Ex          5938.644767\n",
       "year_built               5458.882084\n",
       "bldg_type_1Fam           5428.714813\n",
       "exter_qual_Ex            5428.043591\n",
       "bsmt_exposure_Gd         5280.487742\n",
       "Name: weights, dtype: float64"
      ]
     },
     "execution_count": 69,
     "metadata": {},
     "output_type": "execute_result"
    }
   ],
   "source": [
    "betas.sort_values('abs_w', ascending=False)['weights'].head(10)"
   ]
  },
  {
   "cell_type": "markdown",
   "metadata": {},
   "source": [
    "Revisiting our beta coefficients, we saw that several neighborhoods had strong positive correlation on home prices. Let's see if this makes sense based on the median sale price by neighborhood"
   ]
  },
  {
   "cell_type": "code",
   "execution_count": 70,
   "metadata": {},
   "outputs": [
    {
     "data": {
      "text/plain": [
       "neighborhood\n",
       "StoneBr    322450\n",
       "NridgHt    317500\n",
       "NoRidge    300750\n",
       "GrnHill    280000\n",
       "Veenker    260000\n",
       "ClearCr    225000\n",
       "Somerst    224000\n",
       "Timber     220000\n",
       "CollgCr    200000\n",
       "Crawfor    199500\n",
       "Blmngtn    192250\n",
       "Greens     190000\n",
       "NWAmes     185000\n",
       "SawyerW    181000\n",
       "Gilbert    180750\n",
       "Mitchel    160000\n",
       "NPkVill    143000\n",
       "NAmes      141000\n",
       "Blueste    137500\n",
       "Landmrk    137000\n",
       "SWISU      136200\n",
       "Sawyer     135000\n",
       "BrkSide    128000\n",
       "Edwards    125000\n",
       "OldTown    120000\n",
       "BrDale     105500\n",
       "IDOTRR     102000\n",
       "MeadowV     92450\n",
       "Name: saleprice, dtype: int64"
      ]
     },
     "execution_count": 70,
     "metadata": {},
     "output_type": "execute_result"
    }
   ],
   "source": [
    "train_clean.groupby(by='neighborhood')['saleprice'].median().sort_values(ascending=False)"
   ]
  },
  {
   "cell_type": "markdown",
   "metadata": {},
   "source": [
    "Indeed, the 3 neighborhoods with strong positive coefficients in our model are the neighborhoods with the highest median sales prices (StoneBr, NridgHt, NoRidge)"
   ]
  },
  {
   "cell_type": "markdown",
   "metadata": {},
   "source": [
    "Let's return the data frame for the 10 predictions with the highest absolute error"
   ]
  },
  {
   "cell_type": "code",
   "execution_count": 71,
   "metadata": {},
   "outputs": [
    {
     "data": {
      "text/html": [
       "<div>\n",
       "<style scoped>\n",
       "    .dataframe tbody tr th:only-of-type {\n",
       "        vertical-align: middle;\n",
       "    }\n",
       "\n",
       "    .dataframe tbody tr th {\n",
       "        vertical-align: top;\n",
       "    }\n",
       "\n",
       "    .dataframe thead th {\n",
       "        text-align: right;\n",
       "    }\n",
       "</style>\n",
       "<table border=\"1\" class=\"dataframe\">\n",
       "  <thead>\n",
       "    <tr style=\"text-align: right;\">\n",
       "      <th></th>\n",
       "      <th>ms_subclass</th>\n",
       "      <th>ms_zoning</th>\n",
       "      <th>lot_frontage</th>\n",
       "      <th>lot_area</th>\n",
       "      <th>street</th>\n",
       "      <th>alley</th>\n",
       "      <th>lot_shape</th>\n",
       "      <th>land_contour</th>\n",
       "      <th>utilities</th>\n",
       "      <th>lot_config</th>\n",
       "      <th>...</th>\n",
       "      <th>pool_qc</th>\n",
       "      <th>fence</th>\n",
       "      <th>misc_feature</th>\n",
       "      <th>mo_sold</th>\n",
       "      <th>yr_sold</th>\n",
       "      <th>sale_type</th>\n",
       "      <th>saleprice</th>\n",
       "      <th>predictions</th>\n",
       "      <th>residual</th>\n",
       "      <th>residual_abs</th>\n",
       "    </tr>\n",
       "  </thead>\n",
       "  <tbody>\n",
       "    <tr>\n",
       "      <th>2736</th>\n",
       "      <td>80</td>\n",
       "      <td>RL</td>\n",
       "      <td>69.0552</td>\n",
       "      <td>19690</td>\n",
       "      <td>Pave</td>\n",
       "      <td>NA</td>\n",
       "      <td>IR1</td>\n",
       "      <td>Lvl</td>\n",
       "      <td>AllPub</td>\n",
       "      <td>CulDSac</td>\n",
       "      <td>...</td>\n",
       "      <td>Gd</td>\n",
       "      <td>GdPrv</td>\n",
       "      <td>NA</td>\n",
       "      <td>8</td>\n",
       "      <td>2006</td>\n",
       "      <td>WD</td>\n",
       "      <td>274970</td>\n",
       "      <td>112853.611704</td>\n",
       "      <td>162116.388296</td>\n",
       "      <td>162116.39</td>\n",
       "    </tr>\n",
       "    <tr>\n",
       "      <th>2738</th>\n",
       "      <td>75</td>\n",
       "      <td>RL</td>\n",
       "      <td>60.0000</td>\n",
       "      <td>19800</td>\n",
       "      <td>Pave</td>\n",
       "      <td>NA</td>\n",
       "      <td>Reg</td>\n",
       "      <td>Lvl</td>\n",
       "      <td>AllPub</td>\n",
       "      <td>Inside</td>\n",
       "      <td>...</td>\n",
       "      <td>NA</td>\n",
       "      <td>NA</td>\n",
       "      <td>NA</td>\n",
       "      <td>12</td>\n",
       "      <td>2006</td>\n",
       "      <td>WD</td>\n",
       "      <td>415000</td>\n",
       "      <td>270179.182421</td>\n",
       "      <td>144820.817579</td>\n",
       "      <td>144820.82</td>\n",
       "    </tr>\n",
       "    <tr>\n",
       "      <th>1700</th>\n",
       "      <td>20</td>\n",
       "      <td>RL</td>\n",
       "      <td>110.0000</td>\n",
       "      <td>14977</td>\n",
       "      <td>Pave</td>\n",
       "      <td>NA</td>\n",
       "      <td>IR1</td>\n",
       "      <td>Lvl</td>\n",
       "      <td>AllPub</td>\n",
       "      <td>Inside</td>\n",
       "      <td>...</td>\n",
       "      <td>NA</td>\n",
       "      <td>NA</td>\n",
       "      <td>NA</td>\n",
       "      <td>7</td>\n",
       "      <td>2007</td>\n",
       "      <td>New</td>\n",
       "      <td>440000</td>\n",
       "      <td>336421.653911</td>\n",
       "      <td>103578.346089</td>\n",
       "      <td>103578.35</td>\n",
       "    </tr>\n",
       "    <tr>\n",
       "      <th>1697</th>\n",
       "      <td>20</td>\n",
       "      <td>RL</td>\n",
       "      <td>110.0000</td>\n",
       "      <td>14226</td>\n",
       "      <td>Pave</td>\n",
       "      <td>NA</td>\n",
       "      <td>Reg</td>\n",
       "      <td>Lvl</td>\n",
       "      <td>AllPub</td>\n",
       "      <td>Corner</td>\n",
       "      <td>...</td>\n",
       "      <td>NA</td>\n",
       "      <td>NA</td>\n",
       "      <td>NA</td>\n",
       "      <td>7</td>\n",
       "      <td>2007</td>\n",
       "      <td>New</td>\n",
       "      <td>395000</td>\n",
       "      <td>291618.812477</td>\n",
       "      <td>103381.187523</td>\n",
       "      <td>103381.19</td>\n",
       "    </tr>\n",
       "    <tr>\n",
       "      <th>945</th>\n",
       "      <td>120</td>\n",
       "      <td>RM</td>\n",
       "      <td>44.0000</td>\n",
       "      <td>3843</td>\n",
       "      <td>Pave</td>\n",
       "      <td>NA</td>\n",
       "      <td>IR1</td>\n",
       "      <td>HLS</td>\n",
       "      <td>AllPub</td>\n",
       "      <td>Inside</td>\n",
       "      <td>...</td>\n",
       "      <td>NA</td>\n",
       "      <td>NA</td>\n",
       "      <td>NA</td>\n",
       "      <td>6</td>\n",
       "      <td>2009</td>\n",
       "      <td>New</td>\n",
       "      <td>230000</td>\n",
       "      <td>332186.421333</td>\n",
       "      <td>-102186.421333</td>\n",
       "      <td>102186.42</td>\n",
       "    </tr>\n",
       "    <tr>\n",
       "      <th>1642</th>\n",
       "      <td>20</td>\n",
       "      <td>RL</td>\n",
       "      <td>85.0000</td>\n",
       "      <td>14082</td>\n",
       "      <td>Pave</td>\n",
       "      <td>NA</td>\n",
       "      <td>IR1</td>\n",
       "      <td>HLS</td>\n",
       "      <td>AllPub</td>\n",
       "      <td>Inside</td>\n",
       "      <td>...</td>\n",
       "      <td>NA</td>\n",
       "      <td>NA</td>\n",
       "      <td>NA</td>\n",
       "      <td>1</td>\n",
       "      <td>2007</td>\n",
       "      <td>WD</td>\n",
       "      <td>441929</td>\n",
       "      <td>359424.330037</td>\n",
       "      <td>82504.669963</td>\n",
       "      <td>82504.67</td>\n",
       "    </tr>\n",
       "    <tr>\n",
       "      <th>1172</th>\n",
       "      <td>120</td>\n",
       "      <td>FV</td>\n",
       "      <td>50.0000</td>\n",
       "      <td>5119</td>\n",
       "      <td>Pave</td>\n",
       "      <td>NA</td>\n",
       "      <td>IR1</td>\n",
       "      <td>Lvl</td>\n",
       "      <td>AllPub</td>\n",
       "      <td>CulDSac</td>\n",
       "      <td>...</td>\n",
       "      <td>NA</td>\n",
       "      <td>NA</td>\n",
       "      <td>NA</td>\n",
       "      <td>1</td>\n",
       "      <td>2008</td>\n",
       "      <td>CWD</td>\n",
       "      <td>328900</td>\n",
       "      <td>252634.892180</td>\n",
       "      <td>76265.107820</td>\n",
       "      <td>76265.11</td>\n",
       "    </tr>\n",
       "    <tr>\n",
       "      <th>1861</th>\n",
       "      <td>20</td>\n",
       "      <td>RL</td>\n",
       "      <td>94.0000</td>\n",
       "      <td>17778</td>\n",
       "      <td>Pave</td>\n",
       "      <td>NA</td>\n",
       "      <td>IR1</td>\n",
       "      <td>Lvl</td>\n",
       "      <td>AllPub</td>\n",
       "      <td>Inside</td>\n",
       "      <td>...</td>\n",
       "      <td>NA</td>\n",
       "      <td>NA</td>\n",
       "      <td>NA</td>\n",
       "      <td>3</td>\n",
       "      <td>2007</td>\n",
       "      <td>WD</td>\n",
       "      <td>373000</td>\n",
       "      <td>299336.934501</td>\n",
       "      <td>73663.065499</td>\n",
       "      <td>73663.07</td>\n",
       "    </tr>\n",
       "    <tr>\n",
       "      <th>1010</th>\n",
       "      <td>120</td>\n",
       "      <td>RL</td>\n",
       "      <td>65.0000</td>\n",
       "      <td>5950</td>\n",
       "      <td>Pave</td>\n",
       "      <td>NA</td>\n",
       "      <td>IR1</td>\n",
       "      <td>HLS</td>\n",
       "      <td>AllPub</td>\n",
       "      <td>Inside</td>\n",
       "      <td>...</td>\n",
       "      <td>NA</td>\n",
       "      <td>NA</td>\n",
       "      <td>NA</td>\n",
       "      <td>4</td>\n",
       "      <td>2008</td>\n",
       "      <td>WD</td>\n",
       "      <td>188500</td>\n",
       "      <td>260408.110764</td>\n",
       "      <td>-71908.110764</td>\n",
       "      <td>71908.11</td>\n",
       "    </tr>\n",
       "    <tr>\n",
       "      <th>100</th>\n",
       "      <td>20</td>\n",
       "      <td>FV</td>\n",
       "      <td>69.0552</td>\n",
       "      <td>4403</td>\n",
       "      <td>Pave</td>\n",
       "      <td>NA</td>\n",
       "      <td>IR2</td>\n",
       "      <td>Lvl</td>\n",
       "      <td>AllPub</td>\n",
       "      <td>Inside</td>\n",
       "      <td>...</td>\n",
       "      <td>NA</td>\n",
       "      <td>NA</td>\n",
       "      <td>NA</td>\n",
       "      <td>6</td>\n",
       "      <td>2010</td>\n",
       "      <td>New</td>\n",
       "      <td>222000</td>\n",
       "      <td>293512.569080</td>\n",
       "      <td>-71512.569080</td>\n",
       "      <td>71512.57</td>\n",
       "    </tr>\n",
       "  </tbody>\n",
       "</table>\n",
       "<p>10 rows × 81 columns</p>\n",
       "</div>"
      ],
      "text/plain": [
       "     ms_subclass ms_zoning  lot_frontage  lot_area street alley lot_shape  \\\n",
       "2736          80        RL       69.0552     19690   Pave    NA       IR1   \n",
       "2738          75        RL       60.0000     19800   Pave    NA       Reg   \n",
       "1700          20        RL      110.0000     14977   Pave    NA       IR1   \n",
       "1697          20        RL      110.0000     14226   Pave    NA       Reg   \n",
       "945          120        RM       44.0000      3843   Pave    NA       IR1   \n",
       "1642          20        RL       85.0000     14082   Pave    NA       IR1   \n",
       "1172         120        FV       50.0000      5119   Pave    NA       IR1   \n",
       "1861          20        RL       94.0000     17778   Pave    NA       IR1   \n",
       "1010         120        RL       65.0000      5950   Pave    NA       IR1   \n",
       "100           20        FV       69.0552      4403   Pave    NA       IR2   \n",
       "\n",
       "     land_contour utilities lot_config  ... pool_qc  fence misc_feature  \\\n",
       "2736          Lvl    AllPub    CulDSac  ...      Gd  GdPrv           NA   \n",
       "2738          Lvl    AllPub     Inside  ...      NA     NA           NA   \n",
       "1700          Lvl    AllPub     Inside  ...      NA     NA           NA   \n",
       "1697          Lvl    AllPub     Corner  ...      NA     NA           NA   \n",
       "945           HLS    AllPub     Inside  ...      NA     NA           NA   \n",
       "1642          HLS    AllPub     Inside  ...      NA     NA           NA   \n",
       "1172          Lvl    AllPub    CulDSac  ...      NA     NA           NA   \n",
       "1861          Lvl    AllPub     Inside  ...      NA     NA           NA   \n",
       "1010          HLS    AllPub     Inside  ...      NA     NA           NA   \n",
       "100           Lvl    AllPub     Inside  ...      NA     NA           NA   \n",
       "\n",
       "     mo_sold yr_sold sale_type  saleprice    predictions       residual  \\\n",
       "2736       8    2006       WD      274970  112853.611704  162116.388296   \n",
       "2738      12    2006       WD      415000  270179.182421  144820.817579   \n",
       "1700       7    2007       New     440000  336421.653911  103578.346089   \n",
       "1697       7    2007       New     395000  291618.812477  103381.187523   \n",
       "945        6    2009       New     230000  332186.421333 -102186.421333   \n",
       "1642       1    2007       WD      441929  359424.330037   82504.669963   \n",
       "1172       1    2008       CWD     328900  252634.892180   76265.107820   \n",
       "1861       3    2007       WD      373000  299336.934501   73663.065499   \n",
       "1010       4    2008       WD      188500  260408.110764  -71908.110764   \n",
       "100        6    2010       New     222000  293512.569080  -71512.569080   \n",
       "\n",
       "      residual_abs  \n",
       "2736     162116.39  \n",
       "2738     144820.82  \n",
       "1700     103578.35  \n",
       "1697     103381.19  \n",
       "945      102186.42  \n",
       "1642      82504.67  \n",
       "1172      76265.11  \n",
       "1861      73663.07  \n",
       "1010      71908.11  \n",
       "100       71512.57  \n",
       "\n",
       "[10 rows x 81 columns]"
      ]
     },
     "execution_count": 71,
     "metadata": {},
     "output_type": "execute_result"
    }
   ],
   "source": [
    "train_clean_pred.sort_values(by='residual_abs', ascending=False).head(10)"
   ]
  },
  {
   "cell_type": "markdown",
   "metadata": {},
   "source": [
    "We'll create a mask to just look at a subset of features for these sales"
   ]
  },
  {
   "cell_type": "code",
   "execution_count": 72,
   "metadata": {},
   "outputs": [],
   "source": [
    "features = ['neighborhood','full_bath', 'overall_qual', 'gr_liv_area','garage_cars','total_bsmt_sf','fireplaces','screen_porch','saleprice', 'residual', 'residual_abs','predictions' ]"
   ]
  },
  {
   "cell_type": "code",
   "execution_count": 73,
   "metadata": {},
   "outputs": [
    {
     "data": {
      "text/html": [
       "<div>\n",
       "<style scoped>\n",
       "    .dataframe tbody tr th:only-of-type {\n",
       "        vertical-align: middle;\n",
       "    }\n",
       "\n",
       "    .dataframe tbody tr th {\n",
       "        vertical-align: top;\n",
       "    }\n",
       "\n",
       "    .dataframe thead th {\n",
       "        text-align: right;\n",
       "    }\n",
       "</style>\n",
       "<table border=\"1\" class=\"dataframe\">\n",
       "  <thead>\n",
       "    <tr style=\"text-align: right;\">\n",
       "      <th></th>\n",
       "      <th>neighborhood</th>\n",
       "      <th>full_bath</th>\n",
       "      <th>overall_qual</th>\n",
       "      <th>gr_liv_area</th>\n",
       "      <th>garage_cars</th>\n",
       "      <th>total_bsmt_sf</th>\n",
       "      <th>fireplaces</th>\n",
       "      <th>screen_porch</th>\n",
       "      <th>saleprice</th>\n",
       "      <th>residual</th>\n",
       "      <th>residual_abs</th>\n",
       "      <th>predictions</th>\n",
       "    </tr>\n",
       "  </thead>\n",
       "  <tbody>\n",
       "    <tr>\n",
       "      <th>2736</th>\n",
       "      <td>Edwards</td>\n",
       "      <td>2</td>\n",
       "      <td>6</td>\n",
       "      <td>2201</td>\n",
       "      <td>2.0</td>\n",
       "      <td>697.0</td>\n",
       "      <td>1</td>\n",
       "      <td>0</td>\n",
       "      <td>274970</td>\n",
       "      <td>162116.388296</td>\n",
       "      <td>162116.39</td>\n",
       "      <td>112853.611704</td>\n",
       "    </tr>\n",
       "    <tr>\n",
       "      <th>2738</th>\n",
       "      <td>Edwards</td>\n",
       "      <td>3</td>\n",
       "      <td>6</td>\n",
       "      <td>3672</td>\n",
       "      <td>2.0</td>\n",
       "      <td>1836.0</td>\n",
       "      <td>2</td>\n",
       "      <td>0</td>\n",
       "      <td>415000</td>\n",
       "      <td>144820.817579</td>\n",
       "      <td>144820.82</td>\n",
       "      <td>270179.182421</td>\n",
       "    </tr>\n",
       "    <tr>\n",
       "      <th>1700</th>\n",
       "      <td>NridgHt</td>\n",
       "      <td>2</td>\n",
       "      <td>8</td>\n",
       "      <td>1976</td>\n",
       "      <td>3.0</td>\n",
       "      <td>1976.0</td>\n",
       "      <td>1</td>\n",
       "      <td>0</td>\n",
       "      <td>440000</td>\n",
       "      <td>103578.346089</td>\n",
       "      <td>103578.35</td>\n",
       "      <td>336421.653911</td>\n",
       "    </tr>\n",
       "    <tr>\n",
       "      <th>1697</th>\n",
       "      <td>NridgHt</td>\n",
       "      <td>2</td>\n",
       "      <td>8</td>\n",
       "      <td>1973</td>\n",
       "      <td>3.0</td>\n",
       "      <td>1935.0</td>\n",
       "      <td>1</td>\n",
       "      <td>0</td>\n",
       "      <td>395000</td>\n",
       "      <td>103381.187523</td>\n",
       "      <td>103381.19</td>\n",
       "      <td>291618.812477</td>\n",
       "    </tr>\n",
       "    <tr>\n",
       "      <th>945</th>\n",
       "      <td>Crawfor</td>\n",
       "      <td>2</td>\n",
       "      <td>8</td>\n",
       "      <td>1648</td>\n",
       "      <td>2.0</td>\n",
       "      <td>1596.0</td>\n",
       "      <td>1</td>\n",
       "      <td>0</td>\n",
       "      <td>230000</td>\n",
       "      <td>-102186.421333</td>\n",
       "      <td>102186.42</td>\n",
       "      <td>332186.421333</td>\n",
       "    </tr>\n",
       "    <tr>\n",
       "      <th>1642</th>\n",
       "      <td>StoneBr</td>\n",
       "      <td>1</td>\n",
       "      <td>8</td>\n",
       "      <td>2234</td>\n",
       "      <td>2.0</td>\n",
       "      <td>2220.0</td>\n",
       "      <td>1</td>\n",
       "      <td>0</td>\n",
       "      <td>441929</td>\n",
       "      <td>82504.669963</td>\n",
       "      <td>82504.67</td>\n",
       "      <td>359424.330037</td>\n",
       "    </tr>\n",
       "    <tr>\n",
       "      <th>1172</th>\n",
       "      <td>Somerst</td>\n",
       "      <td>2</td>\n",
       "      <td>9</td>\n",
       "      <td>1709</td>\n",
       "      <td>2.0</td>\n",
       "      <td>1698.0</td>\n",
       "      <td>1</td>\n",
       "      <td>0</td>\n",
       "      <td>328900</td>\n",
       "      <td>76265.107820</td>\n",
       "      <td>76265.11</td>\n",
       "      <td>252634.892180</td>\n",
       "    </tr>\n",
       "    <tr>\n",
       "      <th>1861</th>\n",
       "      <td>Veenker</td>\n",
       "      <td>2</td>\n",
       "      <td>8</td>\n",
       "      <td>2497</td>\n",
       "      <td>2.0</td>\n",
       "      <td>2461.0</td>\n",
       "      <td>2</td>\n",
       "      <td>0</td>\n",
       "      <td>373000</td>\n",
       "      <td>73663.065499</td>\n",
       "      <td>73663.07</td>\n",
       "      <td>299336.934501</td>\n",
       "    </tr>\n",
       "    <tr>\n",
       "      <th>1010</th>\n",
       "      <td>StoneBr</td>\n",
       "      <td>2</td>\n",
       "      <td>8</td>\n",
       "      <td>1337</td>\n",
       "      <td>2.0</td>\n",
       "      <td>1337.0</td>\n",
       "      <td>1</td>\n",
       "      <td>0</td>\n",
       "      <td>188500</td>\n",
       "      <td>-71908.110764</td>\n",
       "      <td>71908.11</td>\n",
       "      <td>260408.110764</td>\n",
       "    </tr>\n",
       "    <tr>\n",
       "      <th>100</th>\n",
       "      <td>Somerst</td>\n",
       "      <td>2</td>\n",
       "      <td>7</td>\n",
       "      <td>1478</td>\n",
       "      <td>2.0</td>\n",
       "      <td>1470.0</td>\n",
       "      <td>1</td>\n",
       "      <td>0</td>\n",
       "      <td>222000</td>\n",
       "      <td>-71512.569080</td>\n",
       "      <td>71512.57</td>\n",
       "      <td>293512.569080</td>\n",
       "    </tr>\n",
       "  </tbody>\n",
       "</table>\n",
       "</div>"
      ],
      "text/plain": [
       "     neighborhood  full_bath  overall_qual  gr_liv_area  garage_cars  \\\n",
       "2736      Edwards          2             6         2201          2.0   \n",
       "2738      Edwards          3             6         3672          2.0   \n",
       "1700      NridgHt          2             8         1976          3.0   \n",
       "1697      NridgHt          2             8         1973          3.0   \n",
       "945       Crawfor          2             8         1648          2.0   \n",
       "1642      StoneBr          1             8         2234          2.0   \n",
       "1172      Somerst          2             9         1709          2.0   \n",
       "1861      Veenker          2             8         2497          2.0   \n",
       "1010      StoneBr          2             8         1337          2.0   \n",
       "100       Somerst          2             7         1478          2.0   \n",
       "\n",
       "      total_bsmt_sf  fireplaces  screen_porch  saleprice       residual  \\\n",
       "2736          697.0           1             0     274970  162116.388296   \n",
       "2738         1836.0           2             0     415000  144820.817579   \n",
       "1700         1976.0           1             0     440000  103578.346089   \n",
       "1697         1935.0           1             0     395000  103381.187523   \n",
       "945          1596.0           1             0     230000 -102186.421333   \n",
       "1642         2220.0           1             0     441929   82504.669963   \n",
       "1172         1698.0           1             0     328900   76265.107820   \n",
       "1861         2461.0           2             0     373000   73663.065499   \n",
       "1010         1337.0           1             0     188500  -71908.110764   \n",
       "100          1470.0           1             0     222000  -71512.569080   \n",
       "\n",
       "      residual_abs    predictions  \n",
       "2736     162116.39  112853.611704  \n",
       "2738     144820.82  270179.182421  \n",
       "1700     103578.35  336421.653911  \n",
       "1697     103381.19  291618.812477  \n",
       "945      102186.42  332186.421333  \n",
       "1642      82504.67  359424.330037  \n",
       "1172      76265.11  252634.892180  \n",
       "1861      73663.07  299336.934501  \n",
       "1010      71908.11  260408.110764  \n",
       "100       71512.57  293512.569080  "
      ]
     },
     "execution_count": 73,
     "metadata": {},
     "output_type": "execute_result"
    }
   ],
   "source": [
    "train_clean_pred[features].sort_values(by='residual_abs', ascending=False).head(10)"
   ]
  },
  {
   "cell_type": "markdown",
   "metadata": {},
   "source": [
    "We see that our 2 worst predictions were under predictions for homes sold in Edwards. We saw above that Edwards has the 5th lowest median home price in Aimes. Based on this we can say that one of factors drivers this underprediction was that the neighborhood had historically lower sale prices"
   ]
  }
 ],
 "metadata": {
  "kernelspec": {
   "display_name": "Python 3",
   "language": "python",
   "name": "python3"
  },
  "language_info": {
   "codemirror_mode": {
    "name": "ipython",
    "version": 3
   },
   "file_extension": ".py",
   "mimetype": "text/x-python",
   "name": "python",
   "nbconvert_exporter": "python",
   "pygments_lexer": "ipython3",
   "version": "3.7.1"
  }
 },
 "nbformat": 4,
 "nbformat_minor": 2
}
